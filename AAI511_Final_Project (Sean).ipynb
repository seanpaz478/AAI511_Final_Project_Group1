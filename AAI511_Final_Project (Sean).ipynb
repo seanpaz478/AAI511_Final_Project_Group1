{
 "cells": [
  {
   "cell_type": "code",
   "execution_count": 26,
   "id": "9f790069",
   "metadata": {},
   "outputs": [],
   "source": [
    "# Importing necessary libraries\n",
    "import pretty_midi\n",
    "import numpy as np\n",
    "import os\n",
    "import torch\n",
    "import torch.nn as nn\n",
    "import torch.nn.functional as F\n",
    "from torch.utils.data import Dataset, DataLoader\n",
    "from sklearn.model_selection import train_test_split\n",
    "from torch.utils.data import Subset\n",
    "from sklearn.metrics import confusion_matrix, classification_report"
   ]
  },
  {
   "cell_type": "code",
   "execution_count": 21,
   "id": "ab80d21d",
   "metadata": {},
   "outputs": [],
   "source": [
    "# Creating function for converting MIDI file to a piano roll representation\n",
    "def midi_to_pianoroll(filepath, fs=100):\n",
    "    try:\n",
    "        midi = pretty_midi.PrettyMIDI(filepath)\n",
    "        piano_roll = midi.get_piano_roll(fs=fs)\n",
    "        return piano_roll.astype(np.float32)\n",
    "    except Exception as e:\n",
    "        raise ValueError(f\"Failed to process MIDI file '{filepath}': {e}\")"
   ]
  },
  {
   "cell_type": "code",
   "execution_count": 20,
   "id": "e0468f97",
   "metadata": {},
   "outputs": [],
   "source": [
    "# Creating Dataset Class for PyTorch\n",
    "class MidiComposerDataset(Dataset):\n",
    "    def __init__(self, root_dir, fs=100, max_length=1000, allowed_composers=None):\n",
    "        self.samples = []\n",
    "        self.labels = []\n",
    "        self.label_map = {}\n",
    "        self.fs = fs\n",
    "        self.max_length = max_length\n",
    "\n",
    "        if allowed_composers is None:\n",
    "            allowed_composers = [\"Bach\", \"Chopin\", \"Mozart\", \"Beethoven\"]\n",
    "\n",
    "        for idx, composer in enumerate(sorted(allowed_composers)):\n",
    "            self.label_map[composer] = idx\n",
    "            composer_dir = os.path.join(root_dir, composer)\n",
    "            if not os.path.isdir(composer_dir):\n",
    "                continue\n",
    "\n",
    "            for root, _, files in os.walk(composer_dir):\n",
    "                for file in files:\n",
    "                    if file.lower().endswith((\".mid\", \".midi\")):\n",
    "                        filepath = os.path.join(root, file)\n",
    "                        self.samples.append(filepath)\n",
    "                        self.labels.append(idx)\n",
    "\n",
    "    def __len__(self):\n",
    "        return len(self.samples)\n",
    "\n",
    "    def __getitem__(self, idx):\n",
    "        filepath = self.samples[idx]\n",
    "        label = self.labels[idx]\n",
    "\n",
    "        try:\n",
    "            piano_roll = midi_to_pianoroll(filepath, fs=self.fs)\n",
    "        except Exception as e:\n",
    "            print(f\"[WARNING] Skipping corrupt file: {filepath}\\n   Reason: {e}\")\n",
    "            new_idx = np.random.randint(0, len(self))\n",
    "            return self.__getitem__(new_idx)\n",
    "\n",
    "        if piano_roll.shape[1] > self.max_length:\n",
    "            piano_roll = piano_roll[:, :self.max_length]\n",
    "        else:\n",
    "            pad_width = self.max_length - piano_roll.shape[1]\n",
    "            piano_roll = np.pad(piano_roll, ((0, 0), (0, pad_width)), mode='constant')\n",
    "\n",
    "        piano_roll = torch.tensor(piano_roll).unsqueeze(0)  # (1, 128, T)\n",
    "        label_tensor = torch.tensor(label, dtype=torch.long)\n",
    "        return piano_roll, label_tensor"
   ]
  },
  {
   "cell_type": "code",
   "execution_count": 22,
   "id": "099fafe7",
   "metadata": {},
   "outputs": [
    {
     "name": "stdout",
     "output_type": "stream",
     "text": [
      "{'Bach': 0, 'Beethoven': 1, 'Chopin': 2, 'Mozart': 3}\n"
     ]
    }
   ],
   "source": [
    "# Checking that preprocessing with pretty_midi is working correctly\n",
    "dataset = MidiComposerDataset(root_dir=\"midiclassics\")\n",
    "print(dataset.label_map)"
   ]
  },
  {
   "cell_type": "code",
   "execution_count": 23,
   "id": "670f1a38",
   "metadata": {},
   "outputs": [],
   "source": [
    "# Creating function for a stratified train/test split\n",
    "def stratified_split(dataset, test_size=0.2, random_state=0):\n",
    "    y = dataset.labels\n",
    "    train_idx, test_idx = train_test_split(\n",
    "        range(len(y)),\n",
    "        test_size=test_size,\n",
    "        random_state=random_state,\n",
    "        stratify=y\n",
    "    )\n",
    "    \n",
    "    return Subset(dataset, train_idx), Subset(dataset, test_idx)"
   ]
  },
  {
   "cell_type": "code",
   "execution_count": 24,
   "id": "4eb89ec3",
   "metadata": {},
   "outputs": [],
   "source": [
    "# Creating function for a CNN/LSTM Classifier\n",
    "class CNNLSTMClassifier(nn.Module):\n",
    "    def __init__(self, input_channels=1, num_classes=4, lstm_hidden=128):\n",
    "        super(CNNLSTMClassifier, self).__init__()\n",
    "\n",
    "        self.cnn = nn.Sequential(\n",
    "            nn.Conv2d(input_channels, 16, kernel_size=(3, 3), padding=1),\n",
    "            nn.ReLU(),\n",
    "            nn.MaxPool2d(kernel_size=(1, 2)),  \n",
    "\n",
    "            nn.Conv2d(16, 32, kernel_size=(3, 3), padding=1),\n",
    "            nn.ReLU(),\n",
    "            nn.MaxPool2d(kernel_size=(1, 2)),  \n",
    "        )\n",
    "\n",
    "        self.lstm_input_size = 32 * 128  \n",
    "\n",
    "        self.lstm = nn.LSTM(\n",
    "            input_size=self.lstm_input_size,\n",
    "            hidden_size=lstm_hidden,\n",
    "            num_layers=1,\n",
    "            batch_first=True\n",
    "        )\n",
    "\n",
    "        self.fc = nn.Linear(lstm_hidden, num_classes)\n",
    "\n",
    "    def forward(self, x):\n",
    "        x = self.cnn(x)  \n",
    "        x = x.permute(0, 3, 1, 2)  \n",
    "        B, T, C, H = x.shape\n",
    "        x = x.reshape(B, T, C * H)  \n",
    "\n",
    "        lstm_out, _ = self.lstm(x)  \n",
    "        out = self.fc(lstm_out[:, -1, :])\n",
    "        return out"
   ]
  },
  {
   "cell_type": "code",
   "execution_count": 25,
   "id": "ddfa0fef",
   "metadata": {},
   "outputs": [
    {
     "name": "stderr",
     "output_type": "stream",
     "text": [
      "C:\\Users\\seanp\\AppData\\Local\\Packages\\PythonSoftwareFoundation.Python.3.12_qbz5n2kfra8p0\\LocalCache\\local-packages\\Python312\\site-packages\\pretty_midi\\pretty_midi.py:100: RuntimeWarning: Tempo, Key or Time signature change events found on non-zero tracks.  This is not a valid type 0 or type 1 MIDI file.  Tempo, Key or Time Signature may be wrong.\n",
      "  warnings.warn(\n"
     ]
    },
    {
     "name": "stdout",
     "output_type": "stream",
     "text": [
      "[WARNING] Skipping corrupt file: midiclassics\\Mozart\\Piano Sonatas\\Nueva carpeta\\K281 Piano Sonata n03 3mov.mid\n",
      "   Reason: Failed to process MIDI file 'midiclassics\\Mozart\\Piano Sonatas\\Nueva carpeta\\K281 Piano Sonata n03 3mov.mid': Could not decode key with 2 flats and mode 2\n",
      "[WARNING] Skipping corrupt file: midiclassics\\Beethoven\\Anhang 14-3.mid\n",
      "   Reason: Failed to process MIDI file 'midiclassics\\Beethoven\\Anhang 14-3.mid': Could not decode key with 3 flats and mode 255\n"
     ]
    }
   ],
   "source": [
    "# Testing functions with simple model\n",
    "device = torch.device(\"cuda\" if torch.cuda.is_available() else \"cpu\")\n",
    "train_dataset, val_dataset = stratified_split(dataset)\n",
    "train_loader = DataLoader(train_dataset, batch_size=32, shuffle=True)\n",
    "val_loader = DataLoader(val_dataset, batch_size=32)\n",
    "\n",
    "model = CNNLSTMClassifier().to(device)\n",
    "criterion = nn.CrossEntropyLoss()\n",
    "optimizer = torch.optim.Adam(model.parameters(), lr=0.001)\n",
    "\n",
    "# Doing a single training epoch for testing purposes\n",
    "model.train()\n",
    "for batch in train_loader:\n",
    "    inputs, labels = batch\n",
    "    inputs = inputs.to(device)\n",
    "    labels = labels.to(device)\n",
    "    optimizer.zero_grad()\n",
    "    outputs = model(inputs)\n",
    "    loss = criterion(outputs, labels)\n",
    "    loss.backward()\n",
    "    optimizer.step()"
   ]
  },
  {
   "cell_type": "code",
   "execution_count": 27,
   "id": "f08d493c",
   "metadata": {},
   "outputs": [
    {
     "name": "stderr",
     "output_type": "stream",
     "text": [
      "C:\\Users\\seanp\\AppData\\Local\\Packages\\PythonSoftwareFoundation.Python.3.12_qbz5n2kfra8p0\\LocalCache\\local-packages\\Python312\\site-packages\\pretty_midi\\pretty_midi.py:100: RuntimeWarning: Tempo, Key or Time signature change events found on non-zero tracks.  This is not a valid type 0 or type 1 MIDI file.  Tempo, Key or Time Signature may be wrong.\n",
      "  warnings.warn(\n"
     ]
    },
    {
     "name": "stdout",
     "output_type": "stream",
     "text": [
      "Evaluation Results:\n",
      "  Loss: 0.9457\n",
      "  Accuracy: 64.11%\n"
     ]
    }
   ],
   "source": [
    "# Evaluating test model\n",
    "model.eval()\n",
    "\n",
    "correct = 0\n",
    "total = 0\n",
    "losses = []\n",
    "\n",
    "criterion = nn.CrossEntropyLoss() \n",
    "\n",
    "with torch.no_grad():\n",
    "    for inputs, labels in val_loader:  \n",
    "        inputs, labels = inputs.to(device), labels.to(device)\n",
    "        outputs = model(inputs)\n",
    "        loss = criterion(outputs, labels)\n",
    "        losses.append(loss.item())\n",
    "\n",
    "        _, predicted = torch.max(outputs.data, 1)\n",
    "        total += labels.size(0)\n",
    "        correct += (predicted == labels).sum().item()\n",
    "\n",
    "accuracy = 100 * correct / total\n",
    "avg_loss = sum(losses) / len(losses)\n",
    "\n",
    "print(f\"Evaluation Results:\")\n",
    "print(f\"Loss: {avg_loss:.4f}\")\n",
    "print(f\"Accuracy: {accuracy:.2f}%\")"
   ]
  }
 ],
 "metadata": {
  "kernelspec": {
   "display_name": "Python 3",
   "language": "python",
   "name": "python3"
  },
  "language_info": {
   "codemirror_mode": {
    "name": "ipython",
    "version": 3
   },
   "file_extension": ".py",
   "mimetype": "text/x-python",
   "name": "python",
   "nbconvert_exporter": "python",
   "pygments_lexer": "ipython3",
   "version": "3.12.10"
  }
 },
 "nbformat": 4,
 "nbformat_minor": 5
}

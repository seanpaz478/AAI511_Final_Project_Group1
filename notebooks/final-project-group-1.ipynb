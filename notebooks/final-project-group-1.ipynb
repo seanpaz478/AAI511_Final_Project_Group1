{
  "cells": [
    {
      "cell_type": "code",
      "execution_count": 12,
      "id": "af68ec15",
      "metadata": {
        "id": "af68ec15"
      },
      "outputs": [],
      "source": [
        "import torch\n",
        "import torch.nn as nn\n",
        "import torch.optim as optim\n",
        "from torch.utils.data import DataLoader\n",
        "from sklearn.model_selection import train_test_split\n",
        "import os\n",
        "import pickle\n",
        "from torch.utils.data import TensorDataset, DataLoader"
      ]
    },
    {
      "cell_type": "code",
      "execution_count": 13,
      "id": "bf9f2727",
      "metadata": {
        "colab": {
          "base_uri": "https://localhost:8080/"
        },
        "id": "bf9f2727",
        "outputId": "04a8ef48-e7c3-4122-9549-04ca8a2d45aa"
      },
      "outputs": [
        {
          "name": "stdout",
          "output_type": "stream",
          "text": [
            "🔧 Utils and dependencies imported\n",
            "🚀 Using Apple Silicon GPU (MPS)\n"
          ]
        }
      ],
      "source": [
        "import importlib\n",
        "import utils\n",
        "\n",
        "importlib.reload(utils)\n",
        "\n",
        "from utils import *\n",
        "\n",
        "print(\"🔧 Utils and dependencies imported\")\n",
        "device = get_device()"
      ]
    },
    {
      "cell_type": "markdown",
      "id": "84376c9a",
      "metadata": {},
      "source": [
        "- In the initial phase we divided the work such that each member would explore one of these toolkits for working with MIDI files\n",
        "  - Mido: Payal\n",
        "  - Pretty Midi: Sean\n",
        "  - [Music21](https://www.music21.org/music21docs/): Antonio\n"
      ]
    },
    {
      "cell_type": "markdown",
      "id": "d96d53aa",
      "metadata": {},
      "source": [
        "\n",
        "# Music 21 exploration\n",
        "During the exploration of music21 library and report on its advantages and disadvantages. For this purpose, a small convolutional model was created exploring different configurations of CNN and LSTM layers. Some initial investigation already pointed out that this library is more oriented towards analyzing, searching, and transforming music in symbolic (score-based) forms, and it seems to work best if the workflow is to transform MIDI files into forms where we would analyze harmony/rythm/notation. `Music21 does not have native piano roll support`.\n",
        "\n",
        "##### Reference\n",
        "Cuthbert, Michael & Ariza, Christopher. (2010). Music21: A Toolkit for Computer-Aided Musicology and Symbolic Music Data.. Proceedings of the 11th International Society for Music Information Retrieval Conference, ISMIR 2010. 637-642. "
      ]
    },
    {
      "cell_type": "markdown",
      "id": "197f9d3b",
      "metadata": {},
      "source": [
        "### Downloading the dataset\n",
        "For consistency, and in order not to need to commit our data files to github, `download_dataset()` was created. This utility function will automatically download the MIDI dataset from Kaggle, extract it to a local directory, and remove any files or folders not corresponding to the target composers, ensuring that everyone works with the same data structure and content."
      ]
    },
    {
      "cell_type": "code",
      "execution_count": 2,
      "id": "991c661a",
      "metadata": {},
      "outputs": [
        {
          "name": "stdout",
          "output_type": "stream",
          "text": [
            "Dataset downloaded and extracted to ../data/kaggle/midiclassics\n"
          ]
        },
        {
          "data": {
            "text/plain": [
              "{'path': '/Users/arr/.cache/kagglehub/datasets/blanderbuss/midi-classic-music/versions/1',\n",
              " 'zip_path': '/Users/arr/.cache/kagglehub/datasets/blanderbuss/midi-classic-music/versions/1/midiclassics.zip',\n",
              " 'extract_path': '../data/kaggle/midiclassics'}"
            ]
          },
          "execution_count": 2,
          "metadata": {},
          "output_type": "execute_result"
        }
      ],
      "source": [
        "paths = download_dataset()\n",
        "paths"
      ]
    },
    {
      "cell_type": "code",
      "execution_count": 3,
      "id": "97093ce1",
      "metadata": {},
      "outputs": [
        {
          "name": "stderr",
          "output_type": "stream",
          "text": [
            "  9%|▉         | 44/481 [00:30<03:56,  1.85it/s]/Users/arr/miniconda3/envs/ds_base/lib/python3.12/site-packages/music21/midi/translate.py:922: TranslateWarning: Unable to determine instrument from <music21.midi.MidiEvent SEQUENCE_TRACK_NAME, track=0, data=b'Preludiul nr.3 \\xeen re minor, BWV 935'>; getting generic Instrument\n",
            "  warnings.warn(\n",
            " 19%|█▊        | 90/481 [01:17<08:25,  1.29s/it]/Users/arr/miniconda3/envs/ds_base/lib/python3.12/site-packages/music21/midi/translate.py:922: TranslateWarning: Unable to determine instrument from <music21.midi.MidiEvent SEQUENCE_TRACK_NAME, track=0, data=b'Preludiul nr.6 \\xeen mi minor, BWV 938'>; getting generic Instrument\n",
            "  warnings.warn(\n",
            " 26%|██▌       | 124/481 [01:45<05:08,  1.16it/s]/Users/arr/miniconda3/envs/ds_base/lib/python3.12/site-packages/music21/midi/translate.py:922: TranslateWarning: Unable to determine instrument from <music21.midi.MidiEvent SEQUENCE_TRACK_NAME, track=0, data=b'Concerto pour violon et orchestre en R\\xe9 majeur'>; getting generic Instrument\n",
            "  warnings.warn(\n",
            "/Users/arr/miniconda3/envs/ds_base/lib/python3.12/site-packages/music21/midi/translate.py:922: TranslateWarning: Unable to determine instrument from <music21.midi.MidiEvent SEQUENCE_TRACK_NAME, track=0, data=b'Second mouvement : Larghetto - troisi\\xe8me mouvement : Rondo - Allegro'>; getting generic Instrument\n",
            "  warnings.warn(\n",
            " 26%|██▌       | 126/481 [01:58<17:38,  2.98s/it]/Users/arr/miniconda3/envs/ds_base/lib/python3.12/site-packages/music21/midi/translate.py:922: TranslateWarning: Unable to determine instrument from <music21.midi.MidiEvent SEQUENCE_TRACK_NAME, track=0, data=b'\\x83s\\x83A\\x83m\\x83\\\\\\x83i\\x83^ \\x91\\xe6\\x82Q\\x82X\\x94\\xd4 \\x81u\\x83n\\x83\\x93\\x83}\\x81[\\x83N\\x83\\x89\\x83\\x94\\x83B\\x83A\\x81v \\x91\\xe6\\x82Q\\x8ay\\x8f\\xcd'>; getting generic Instrument\n",
            "  warnings.warn(\n",
            " 30%|███       | 146/481 [02:35<09:43,  1.74s/it]/Users/arr/miniconda3/envs/ds_base/lib/python3.12/site-packages/music21/midi/translate.py:922: TranslateWarning: Unable to determine instrument from <music21.midi.MidiEvent SEQUENCE_TRACK_NAME, track=0, data=b'Rond\\xf2 in C WoO 48  (1783)'>; getting generic Instrument\n",
            "  warnings.warn(\n",
            " 31%|███       | 150/481 [02:38<05:48,  1.05s/it]/Users/arr/miniconda3/envs/ds_base/lib/python3.12/site-packages/music21/midi/translate.py:922: TranslateWarning: Unable to determine instrument from <music21.midi.MidiEvent SEQUENCE_TRACK_NAME, track=16, data=b'\\xa9 July 2003'>; getting generic Instrument\n",
            "  warnings.warn(\n",
            " 33%|███▎      | 157/481 [02:55<08:02,  1.49s/it]/Users/arr/miniconda3/envs/ds_base/lib/python3.12/site-packages/music21/midi/translate.py:922: TranslateWarning: Unable to determine instrument from <music21.midi.MidiEvent SEQUENCE_TRACK_NAME, track=19, data=b'\\xa9 October 2001'>; getting generic Instrument\n",
            "  warnings.warn(\n",
            " 34%|███▎      | 162/481 [03:06<08:29,  1.60s/it]/Users/arr/miniconda3/envs/ds_base/lib/python3.12/site-packages/music21/midi/translate.py:922: TranslateWarning: Unable to determine instrument from <music21.midi.MidiEvent SEQUENCE_TRACK_NAME, track=0, data=b'Second mouvement : Adagio un poco mosso - troisi\\xe8me mouvement : Rondo - Allegro'>; getting generic Instrument\n",
            "  warnings.warn(\n",
            "/Users/arr/miniconda3/envs/ds_base/lib/python3.12/site-packages/music21/midi/translate.py:922: TranslateWarning: Unable to determine instrument from <music21.midi.MidiEvent SEQUENCE_TRACK_NAME, track=19, data=b'\\xa9 September 1998'>; getting generic Instrument\n",
            "  warnings.warn(\n",
            " 35%|███▌      | 170/481 [03:52<19:30,  3.76s/it]/Users/arr/miniconda3/envs/ds_base/lib/python3.12/site-packages/music21/midi/translate.py:922: TranslateWarning: Unable to determine instrument from <music21.midi.MidiEvent SEQUENCE_TRACK_NAME, track=17, data=b'\\xa9  September 1998'>; getting generic Instrument\n",
            "  warnings.warn(\n",
            " 37%|███▋      | 179/481 [04:48<32:09,  6.39s/it]/Users/arr/miniconda3/envs/ds_base/lib/python3.12/site-packages/music21/midi/translate.py:922: TranslateWarning: Unable to determine instrument from <music21.midi.MidiEvent SEQUENCE_TRACK_NAME, track=0, data=b'Ouverture N\\xb02 for Fidelio'>; getting generic Instrument\n",
            "  warnings.warn(\n",
            "/Users/arr/miniconda3/envs/ds_base/lib/python3.12/site-packages/music21/midi/translate.py:922: TranslateWarning: Unable to determine instrument from <music21.midi.MidiEvent SEQUENCE_TRACK_NAME, track=23, data=b'\\xa9 October 2001'>; getting generic Instrument\n",
            "  warnings.warn(\n",
            "/Users/arr/miniconda3/envs/ds_base/lib/python3.12/site-packages/music21/midi/translate.py:922: TranslateWarning: Unable to determine instrument from <music21.midi.MidiEvent SEQUENCE_TRACK_NAME, track=24, data=b'Beethoven -  Ouverture Leonore n\\xb0 2'>; getting generic Instrument\n",
            "  warnings.warn(\n",
            " 37%|███▋      | 180/481 [05:05<46:47,  9.33s/it]/Users/arr/miniconda3/envs/ds_base/lib/python3.12/site-packages/music21/midi/translate.py:922: TranslateWarning: Unable to determine instrument from <music21.midi.MidiEvent SEQUENCE_TRACK_NAME, track=0, data=b'Ouverture N\\xb03 for Fidelio'>; getting generic Instrument\n",
            "  warnings.warn(\n",
            "/Users/arr/miniconda3/envs/ds_base/lib/python3.12/site-packages/music21/midi/translate.py:922: TranslateWarning: Unable to determine instrument from <music21.midi.MidiEvent SEQUENCE_TRACK_NAME, track=22, data=b'\\xa9 October 2001'>; getting generic Instrument\n",
            "  warnings.warn(\n",
            "/Users/arr/miniconda3/envs/ds_base/lib/python3.12/site-packages/music21/midi/translate.py:922: TranslateWarning: Unable to determine instrument from <music21.midi.MidiEvent SEQUENCE_TRACK_NAME, track=23, data=b'Beethoven -  Ouverture Leonore n\\xb0 3'>; getting generic Instrument\n",
            "  warnings.warn(\n",
            " 43%|████▎     | 207/481 [06:38<02:52,  1.59it/s]  /Users/arr/miniconda3/envs/ds_base/lib/python3.12/site-packages/music21/midi/translate.py:922: TranslateWarning: Unable to determine instrument from <music21.midi.MidiEvent SEQUENCE_TRACK_NAME, track=0, data=b'Ouverture N\\xb01 for Fidelio'>; getting generic Instrument\n",
            "  warnings.warn(\n",
            "/Users/arr/miniconda3/envs/ds_base/lib/python3.12/site-packages/music21/midi/translate.py:922: TranslateWarning: Unable to determine instrument from <music21.midi.MidiEvent SEQUENCE_TRACK_NAME, track=17, data=b'\\xa9 October 2001'>; getting generic Instrument\n",
            "  warnings.warn(\n",
            "/Users/arr/miniconda3/envs/ds_base/lib/python3.12/site-packages/music21/midi/translate.py:922: TranslateWarning: Unable to determine instrument from <music21.midi.MidiEvent SEQUENCE_TRACK_NAME, track=18, data=b'Beethoven -  Ouverture Leonore n\\xb0 1'>; getting generic Instrument\n",
            "  warnings.warn(\n",
            " 48%|████▊     | 230/481 [07:26<09:45,  2.33s/it]/Users/arr/miniconda3/envs/ds_base/lib/python3.12/site-packages/music21/midi/translate.py:922: TranslateWarning: Unable to determine instrument from <music21.midi.MidiEvent SEQUENCE_TRACK_NAME, track=0, data=b' Anhang 6 Rond\\xf2 per pianoforte'>; getting generic Instrument\n",
            "  warnings.warn(\n",
            " 51%|█████     | 244/481 [07:39<02:30,  1.58it/s]/Users/arr/miniconda3/envs/ds_base/lib/python3.12/site-packages/music21/midi/translate.py:922: TranslateWarning: Unable to determine instrument from <music21.midi.MidiEvent SEQUENCE_TRACK_NAME, track=1, data=b'1 main droite m\\xe9lodie'>; getting generic Instrument\n",
            "  warnings.warn(\n",
            " 54%|█████▎    | 258/481 [07:57<02:30,  1.48it/s]/Users/arr/miniconda3/envs/ds_base/lib/python3.12/site-packages/music21/midi/translate.py:922: TranslateWarning: Unable to determine instrument from <music21.midi.MidiEvent SEQUENCE_TRACK_NAME, track=4, data=b'Copyright \\xa9 1997 by Bernd Krueger'>; getting generic Instrument\n",
            "  warnings.warn(\n",
            " 54%|█████▍    | 260/481 [08:00<04:15,  1.16s/it]/Users/arr/miniconda3/envs/ds_base/lib/python3.12/site-packages/music21/midi/translate.py:922: TranslateWarning: Unable to determine instrument from <music21.midi.MidiEvent SEQUENCE_TRACK_NAME, track=6, data=b'Copyright \\xa9 July 1997 by'>; getting generic Instrument\n",
            "  warnings.warn(\n",
            " 55%|█████▍    | 263/481 [08:03<03:38,  1.00s/it]/Users/arr/miniconda3/envs/ds_base/lib/python3.12/site-packages/music21/midi/translate.py:922: TranslateWarning: Unable to determine instrument from <music21.midi.MidiEvent SEQUENCE_TRACK_NAME, track=4, data=b'Copyright \\xa9 2002 by Bernd Krueger'>; getting generic Instrument\n",
            "  warnings.warn(\n",
            " 56%|█████▌    | 268/481 [08:06<02:32,  1.40it/s]/Users/arr/miniconda3/envs/ds_base/lib/python3.12/site-packages/music21/midi/translate.py:922: TranslateWarning: Unable to determine instrument from <music21.midi.MidiEvent SEQUENCE_TRACK_NAME, track=3, data=b'\\xa9 1996'>; getting generic Instrument\n",
            "  warnings.warn(\n",
            " 58%|█████▊    | 277/481 [08:20<10:26,  3.07s/it]/Users/arr/miniconda3/envs/ds_base/lib/python3.12/site-packages/music21/midi/translate.py:922: TranslateWarning: Unable to determine instrument from <music21.midi.MidiEvent SEQUENCE_TRACK_NAME, track=4, data=b'Copyright \\xa9 2003 by Bernd Krueger'>; getting generic Instrument\n",
            "  warnings.warn(\n",
            " 61%|██████    | 292/481 [08:29<02:11,  1.44it/s]/Users/arr/miniconda3/envs/ds_base/lib/python3.12/site-packages/music21/midi/translate.py:922: TranslateWarning: Unable to determine instrument from <music21.midi.MidiEvent SEQUENCE_TRACK_NAME, track=4, data=b'Copyright \\xa9 2002 by Bernd Kr\\xfcger'>; getting generic Instrument\n",
            "  warnings.warn(\n",
            " 62%|██████▏   | 297/481 [08:41<05:42,  1.86s/it]/Users/arr/miniconda3/envs/ds_base/lib/python3.12/site-packages/music21/midi/translate.py:922: TranslateWarning: Unable to determine instrument from <music21.midi.MidiEvent SEQUENCE_TRACK_NAME, track=0, data=b'F.F.Chopin  Nocturne No.11 in G minor Op.37-1 \\x81@'>; getting generic Instrument\n",
            "  warnings.warn(\n",
            " 64%|██████▍   | 308/481 [08:50<01:50,  1.57it/s]/Users/arr/miniconda3/envs/ds_base/lib/python3.12/site-packages/music21/midi/translate.py:922: TranslateWarning: Unable to determine instrument from <music21.midi.MidiEvent SEQUENCE_TRACK_NAME, track=4, data=b'Copyright \\xa9 1997 by Bernd Kr\\xfcger'>; getting generic Instrument\n",
            "  warnings.warn(\n",
            " 64%|██████▍   | 310/481 [08:52<02:10,  1.31it/s]/Users/arr/miniconda3/envs/ds_base/lib/python3.12/site-packages/music21/midi/translate.py:922: TranslateWarning: Unable to determine instrument from <music21.midi.MidiEvent SEQUENCE_TRACK_NAME, track=0, data=b'Et\\xfcde Opus 10 No. 5'>; getting generic Instrument\n",
            "  warnings.warn(\n",
            "/Users/arr/miniconda3/envs/ds_base/lib/python3.12/site-packages/music21/midi/translate.py:922: TranslateWarning: Unable to determine instrument from <music21.midi.MidiEvent SEQUENCE_TRACK_NAME, track=0, data=b'Schwarze-Tasten-Et\\xfcde'>; getting generic Instrument\n",
            "  warnings.warn(\n",
            "/Users/arr/miniconda3/envs/ds_base/lib/python3.12/site-packages/music21/midi/translate.py:922: TranslateWarning: Unable to determine instrument from <music21.midi.MidiEvent SEQUENCE_TRACK_NAME, track=4, data=b'Copyright \\xa9 1999 by Bernd Kr\\xfcger'>; getting generic Instrument\n",
            "  warnings.warn(\n",
            " 69%|██████▉   | 334/481 [09:27<02:27,  1.01s/it]/Users/arr/miniconda3/envs/ds_base/lib/python3.12/site-packages/music21/midi/translate.py:922: TranslateWarning: Unable to determine instrument from <music21.midi.MidiEvent SEQUENCE_TRACK_NAME, track=5, data=b'Copyright \\xa9 2002 by Bernd Krueger'>; getting generic Instrument\n",
            "  warnings.warn(\n",
            " 71%|███████▏  | 343/481 [09:33<01:52,  1.23it/s]/Users/arr/miniconda3/envs/ds_base/lib/python3.12/site-packages/music21/midi/translate.py:922: TranslateWarning: Unable to determine instrument from <music21.midi.MidiEvent SEQUENCE_TRACK_NAME, track=0, data=b'Scherzo n\\xb01 in Si minore, Op.20'>; getting generic Instrument\n",
            "  warnings.warn(\n",
            "/Users/arr/miniconda3/envs/ds_base/lib/python3.12/site-packages/music21/midi/translate.py:922: TranslateWarning: Unable to determine instrument from <music21.midi.MidiEvent SEQUENCE_TRACK_NAME, track=3, data=b'Copyright \\xa9 2003 by Dario Galimberti'>; getting generic Instrument\n",
            "  warnings.warn(\n",
            " 73%|███████▎  | 353/481 [10:01<04:47,  2.25s/it]/Users/arr/miniconda3/envs/ds_base/lib/python3.12/site-packages/music21/midi/translate.py:922: TranslateWarning: Unable to determine instrument from <music21.midi.MidiEvent SEQUENCE_TRACK_NAME, track=5, data=b'Copyright \\xa9 1997 by Bernd Krueger'>; getting generic Instrument\n",
            "  warnings.warn(\n",
            " 79%|███████▊  | 378/481 [10:19<01:07,  1.53it/s]/Users/arr/miniconda3/envs/ds_base/lib/python3.12/site-packages/music21/midi/translate.py:922: TranslateWarning: Unable to determine instrument from <music21.midi.MidiEvent SEQUENCE_TRACK_NAME, track=0, data=b'Et\\xfcde Nr. 12'>; getting generic Instrument\n",
            "  warnings.warn(\n",
            " 80%|████████  | 387/481 [10:28<01:11,  1.32it/s]/Users/arr/miniconda3/envs/ds_base/lib/python3.12/site-packages/music21/midi/translate.py:922: TranslateWarning: Unable to determine instrument from <music21.midi.MidiEvent SEQUENCE_TRACK_NAME, track=0, data=b'Et\\xfcde Opus 25, No. 11'>; getting generic Instrument\n",
            "  warnings.warn(\n",
            "/Users/arr/miniconda3/envs/ds_base/lib/python3.12/site-packages/music21/midi/translate.py:922: TranslateWarning: Unable to determine instrument from <music21.midi.MidiEvent SEQUENCE_TRACK_NAME, track=0, data=b'Sturmet\\xfcde'>; getting generic Instrument\n",
            "  warnings.warn(\n",
            " 83%|████████▎ | 398/481 [10:46<02:25,  1.75s/it]/Users/arr/miniconda3/envs/ds_base/lib/python3.12/site-packages/music21/midi/translate.py:922: TranslateWarning: Unable to determine instrument from <music21.midi.MidiEvent SEQUENCE_TRACK_NAME, track=0, data=b'Fl\\xf6te-Konzert Nr. 2'>; getting generic Instrument\n",
            "  warnings.warn(\n",
            " 84%|████████▍ | 405/481 [10:54<01:06,  1.15it/s]/Users/arr/miniconda3/envs/ds_base/lib/python3.12/site-packages/music21/midi/translate.py:922: TranslateWarning: Unable to determine instrument from <music21.midi.MidiEvent SEQUENCE_TRACK_NAME, track=11, data=b'\\xa9 June 2000'>; getting generic Instrument\n",
            "  warnings.warn(\n",
            " 84%|████████▍ | 406/481 [10:56<01:33,  1.24s/it]/Users/arr/miniconda3/envs/ds_base/lib/python3.12/site-packages/music21/midi/translate.py:922: TranslateWarning: Unable to determine instrument from <music21.midi.MidiEvent SEQUENCE_TRACK_NAME, track=0, data=b'f\\xfcr Sopran, Chor und Orchester'>; getting generic Instrument\n",
            "  warnings.warn(\n",
            "/Users/arr/miniconda3/envs/ds_base/lib/python3.12/site-packages/music21/midi/translate.py:922: TranslateWarning: Unable to determine instrument from <music21.midi.MidiEvent SEQUENCE_TRACK_NAME, track=8, data=b'Ba\\xdf'>; getting generic Instrument\n",
            "  warnings.warn(\n",
            " 88%|████████▊ | 425/481 [11:25<00:41,  1.34it/s]/Users/arr/miniconda3/envs/ds_base/lib/python3.12/site-packages/music21/midi/translate.py:922: TranslateWarning: Unable to determine instrument from <music21.midi.MidiEvent SEQUENCE_TRACK_NAME, track=4, data=b'Title: Ein St\\xfcck F\\xfcr Orgelwerk In Einer Uhr (K. 594, 1790)'>; getting generic Instrument\n",
            "  warnings.warn(\n",
            " 93%|█████████▎| 445/481 [11:53<00:44,  1.24s/it]/Users/arr/miniconda3/envs/ds_base/lib/python3.12/site-packages/music21/midi/translate.py:922: TranslateWarning: Unable to determine instrument from <music21.midi.MidiEvent SEQUENCE_TRACK_NAME, track=0, data=b'\\x8b\\xc8\\x82\\xcc\\x95\\\\\\x91\\xe8'>; getting generic Instrument\n",
            "  warnings.warn(\n",
            " 99%|█████████▉| 477/481 [12:35<00:03,  1.17it/s]/Users/arr/miniconda3/envs/ds_base/lib/python3.12/site-packages/music21/midi/translate.py:922: TranslateWarning: Unable to determine instrument from <music21.midi.MidiEvent SEQUENCE_TRACK_NAME, track=4, data=b'Title: Ein Orgel-St\\xfcck F\\xfcr Ein Uhr in Abmaj (K. 608, 1791)'>; getting generic Instrument\n",
            "  warnings.warn(\n",
            "100%|██████████| 481/481 [12:44<00:00,  1.59s/it]"
          ]
        },
        {
          "name": "stdout",
          "output_type": "stream",
          "text": [
            "Extracted 481 piano rolls.\n"
          ]
        },
        {
          "name": "stderr",
          "output_type": "stream",
          "text": [
            "\n"
          ]
        }
      ],
      "source": [
        "piano_rolls, valid_labels = extract_music21_piano_roll_segments(paths['extract_path'])"
      ]
    },
    {
      "cell_type": "code",
      "execution_count": 6,
      "id": "6134c8f4",
      "metadata": {},
      "outputs": [
        {
          "name": "stdout",
          "output_type": "stream",
          "text": [
            "Bach: 122 samples\n",
            "Beethoven: 133 samples\n",
            "Chopin: 136 samples\n",
            "Mozart: 90 samples\n"
          ]
        }
      ],
      "source": [
        "import collections\n",
        "label_counts = collections.Counter(valid_labels)\n",
        "composer_names = ['Bach', 'Beethoven', 'Chopin', 'Mozart']\n",
        "for idx, name in enumerate(composer_names):\n",
        "    print(f\"{name}: {label_counts.get(idx, 0)} samples\")"
      ]
    },
    {
      "cell_type": "markdown",
      "id": "85adeb58",
      "metadata": {},
      "source": [
        "Taking a look at the piano roll"
      ]
    },
    {
      "cell_type": "code",
      "execution_count": 7,
      "id": "3fb61804",
      "metadata": {},
      "outputs": [
        {
          "data": {
            "image/png": "[encoded data removed]",
            "text/plain": [
              "<Figure size 1000x400 with 2 Axes>"
            ]
          },
          "metadata": {
            "image/png": {
              "height": 392,
              "width": 801
            }
          },
          "output_type": "display_data"
        }
      ],
      "source": [
        "idx = np.random.randint(len(piano_rolls))\n",
        "plt.figure(figsize=(10, 4))\n",
        "plt.imshow(piano_rolls[idx], aspect='auto', origin='lower', cmap='gray_r')\n",
        "plt.xlabel(\"Time step\")\n",
        "plt.ylabel(\"MIDI pitch\")\n",
        "plt.title(f\"Piano Roll Example (Label: {composer_names[valid_labels[idx]]})\")\n",
        "plt.colorbar(label='Note On')\n",
        "plt.show()"
      ]
    },
    {
      "cell_type": "code",
      "execution_count": 8,
      "id": "fcc80915",
      "metadata": {},
      "outputs": [
        {
          "name": "stdout",
          "output_type": "stream",
          "text": [
            "Bach - Avg. note density: 0.0112\n",
            "Beethoven - Avg. note density: 0.0108\n",
            "Chopin - Avg. note density: 0.0089\n",
            "Mozart - Avg. note density: 0.0088\n"
          ]
        }
      ],
      "source": [
        "note_density = [np.mean(np.array(p) > 0) for p in piano_rolls]\n",
        "for i, name in enumerate(composer_names):\n",
        "    densities = [note_density[j] for j in range(len(valid_labels)) if valid_labels[j] == i]\n",
        "    print(f\"{name} - Avg. note density: {np.mean(densities):.4f}\")"
      ]
    },
    {
      "cell_type": "markdown",
      "id": "818a911e",
      "metadata": {},
      "source": [
        "The initial base test is with this type of architecture with 2 CNN layers and 1 LSTM layer. The plan is to observe and try to gain any insights as to which the best next steps would be"
      ]
    },
    {
      "cell_type": "code",
      "execution_count": 14,
      "id": "0752890e",
      "metadata": {},
      "outputs": [],
      "source": [
        "class SimpleCNNLSTM(nn.Module):\n",
        "    def __init__(self, num_classes, input_time_dim):\n",
        "        super(SimpleCNNLSTM, self).__init__()\n",
        "        self.conv1 = nn.Conv2d(1, 32, kernel_size=(3,3), padding=1)\n",
        "        self.relu1 = nn.ReLU()\n",
        "        self.conv2 = nn.Conv2d(32, 64, kernel_size=(3,3), padding=1)\n",
        "        self.relu2 = nn.ReLU()\n",
        "        self.pool = nn.MaxPool2d((2,2))\n",
        "        # After pooling, pitch dim is 64, time dim is input_time_dim//2\n",
        "        self.lstm = nn.LSTM(input_size=64, hidden_size=64, batch_first=True)\n",
        "        self.fc = nn.Linear(64, num_classes)\n",
        "\n",
        "    def forward(self, x):\n",
        "        # x: (batch, 1, 128, T)\n",
        "        x = self.relu1(self.conv1(x))\n",
        "        x = self.pool(x)\n",
        "        x = self.relu2(self.conv2(x))\n",
        "        x = self.pool(x)  # Now (batch, 64, 32, T//4)\n",
        "        # Prepare for LSTM: collapse pitch, transpose to (batch, time, features)\n",
        "        x = x.mean(dim=2)  # (batch, 64, T//4)\n",
        "        x = x.permute(0,2,1)  # (batch, T//4, 64)\n",
        "        out, _ = self.lstm(x)  # (batch, T//4, 64)\n",
        "        out = out[:,-1,:]      # Take last time step\n",
        "        out = self.fc(out)\n",
        "        return out"
      ]
    },
    {
      "cell_type": "code",
      "execution_count": 15,
      "id": "72d83e02",
      "metadata": {},
      "outputs": [],
      "source": [
        "# Convert to tensors and add channel dimension (N, 1, 128, T)\n",
        "X = torch.tensor(piano_rolls, dtype=torch.float32).unsqueeze(1)\n",
        "y = torch.tensor(valid_labels, dtype=torch.long)\n",
        "\n",
        "# Split into train/val sets\n",
        "X_train, X_val, y_train, y_val = train_test_split(X, y, test_size=0.2, stratify=y, random_state=42)\n",
        "\n",
        "# Create DataLoaders\n",
        "train_loader = DataLoader(TensorDataset(X_train, y_train), batch_size=32, shuffle=True)\n",
        "val_loader = DataLoader(TensorDataset(X_val, y_val), batch_size=32)"
      ]
    },
    {
      "cell_type": "code",
      "execution_count": 16,
      "id": "f63a4326",
      "metadata": {},
      "outputs": [
        {
          "name": "stdout",
          "output_type": "stream",
          "text": [
            "Epoch 1/20, Loss: 1.3923\n",
            "Epoch 2/20, Loss: 1.3826\n",
            "Epoch 3/20, Loss: 1.3767\n",
            "Epoch 4/20, Loss: 1.3809\n",
            "Epoch 5/20, Loss: 1.3751\n",
            "Epoch 6/20, Loss: 1.3754\n",
            "Epoch 7/20, Loss: 1.3755\n",
            "Epoch 8/20, Loss: 1.3748\n",
            "Epoch 9/20, Loss: 1.3751\n",
            "Epoch 10/20, Loss: 1.3749\n",
            "Epoch 11/20, Loss: 1.3755\n",
            "Epoch 12/20, Loss: 1.3784\n",
            "Epoch 13/20, Loss: 1.3759\n",
            "Epoch 14/20, Loss: 1.3748\n",
            "Epoch 15/20, Loss: 1.3756\n",
            "Epoch 16/20, Loss: 1.3758\n",
            "Epoch 17/20, Loss: 1.3750\n",
            "Epoch 18/20, Loss: 1.3751\n",
            "Epoch 19/20, Loss: 1.3749\n",
            "Epoch 20/20, Loss: 1.3759\n"
          ]
        }
      ],
      "source": [
        "num_classes = 4\n",
        "input_time_dim = X.shape[-1]\n",
        "model = SimpleCNNLSTM(num_classes=num_classes, input_time_dim=input_time_dim).to(device)\n",
        "criterion = torch.nn.CrossEntropyLoss()\n",
        "optimizer = torch.optim.Adam(model.parameters(), lr=0.001)\n",
        "\n",
        "EPOCHS = 20\n",
        "for epoch in range(EPOCHS):\n",
        "    model.train()\n",
        "    total_loss = 0\n",
        "    for piano_rolls, labels in train_loader:\n",
        "        piano_rolls, labels = piano_rolls.to(device), labels.to(device)\n",
        "        optimizer.zero_grad()\n",
        "        outputs = model(piano_rolls)\n",
        "        loss = criterion(outputs, labels)\n",
        "        loss.backward()\n",
        "        optimizer.step()\n",
        "        total_loss += loss.item()\n",
        "    print(f\"Epoch {epoch+1}/{EPOCHS}, Loss: {total_loss/len(train_loader):.4f}\")"
      ]
    },
    {
      "cell_type": "code",
      "execution_count": 17,
      "id": "2796beba",
      "metadata": {},
      "outputs": [
        {
          "name": "stdout",
          "output_type": "stream",
          "text": [
            "Validation Accuracy: 27.84%\n"
          ]
        }
      ],
      "source": [
        "model.eval()\n",
        "correct = 0\n",
        "total = 0\n",
        "with torch.no_grad():\n",
        "    for piano_rolls, labels in val_loader:\n",
        "        piano_rolls, labels = piano_rolls.to(device), labels.to(device)\n",
        "        outputs = model(piano_rolls)\n",
        "        _, predicted = torch.max(outputs.data, 1)\n",
        "        total += labels.size(0)\n",
        "        correct += (predicted == labels).sum().item()\n",
        "print(f\"Validation Accuracy: {100 * correct / total:.2f}%\")"
      ]
    },
    {
      "cell_type": "markdown",
      "id": "4ad93afc",
      "metadata": {},
      "source": [
        "## Music21 conclusion\n",
        "After investigating and exploring the use of music21 as an alternative to create our piano rolls for CNN training, we noticed that there are important differences in music21 that made us decide to go with pretty_midi.\n",
        "\n",
        "We chose **pretty_midi** for my piano-roll CNN pipeline because:\n",
        "- The library is explicitly geared toward *easy MIDI modification and data extraction*, as documented.\n",
        "- It provides a built-in `get_piano_roll()` function, delivering arrays directly usable in CNNs.\n",
        "\n",
        "While **music21** is powerful for symbolic and musicological tasks, it’s not optimized for rapid MIDI-to-array conversion pipelines. We're planning on using CNNs for feature extraction, therefore pretty_midi looks like the right choice\n",
        "\n",
        "#### Model results\n",
        "- After comparing the initial trials among all the alternatives, the pretty_midi example performed much better than the simple implementation using music21, therefore, we decided to commit to `pretty_midi`"
      ]
    },
    {
      "cell_type": "markdown",
      "id": "d109f146",
      "metadata": {},
      "source": [
        "# Next steps\n",
        "The group decided to work in separate parallel attempts at getting the best performance, all members focusing on different things:\n",
        "- Payal focused on ......\n",
        "- Sean focused on .....\n",
        "- Antonio focused on multi-modality, where CNN layers would do feature extraction, and a separate non-sequential layer would use extracted engineered features to find some patterns, then later joining the two as input for LSTM layers. The inspiration for this came from a YouTube video explaining how the LLM models are easier to train in the Chinese language when using multimodality ([link to video](https://youtube.com/shorts/AQrRfqEVpic?si=ihqV33mBX9kqla07)).\n",
        "\n",
        "##### Reference\n",
        "Sun, Z., Li, X., Sun, X., Meng, Y., Ao, X., He, Q., Wu, F., & Li, J. (2021). ChineseBERT: Chinese pretraining enhanced by glyph and Pinyin information (arXiv:2106.16038). arXiv. https://doi.org/10.48550/arXiv.2106.16038"
      ]
    },
    {
      "cell_type": "markdown",
      "id": "33a56841",
      "metadata": {
        "id": "33a56841"
      },
      "source": [
        "# CNN-MLP Multimodal Composer Classification\n",
        "\n",
        "Upon reading the course slack messages, and seeing that some students reported good results when creating separate CNN and LSTM models, then ensembling them, this model was created to replicate that attempt. Apart from passing the piano roll through convolutional layers like before, this model also introduced separate MLP (Multilayer Perceptron) layers to learn from features that were engineering by extracting musical features from the piano_roll data. This way, the model can mimic the multi-modality described in the [youtube video](https://youtube.com/shorts/AQrRfqEVpic?si=ihqV33mBX9kqla07) mentioned in the section above.\n",
        "\n",
        "## Model Architecture\n",
        "- **CNN Stream**: Processes piano roll data for visual pattern recognition\n",
        "- **MLP Stream**: Processes hand-crafted musical features\n",
        "- **Fusion Layer**: Combines both streams for final classification"
      ]
    },
    {
      "cell_type": "code",
      "execution_count": null,
      "id": "cDauKTk3gSZa",
      "metadata": {
        "colab": {
          "base_uri": "https://localhost:8080/"
        },
        "id": "cDauKTk3gSZa",
        "outputId": "eb5a2fd7-1e65-4c40-cc8d-a7b29c49ae92"
      },
      "outputs": [
        {
          "name": "stdout",
          "output_type": "stream",
          "text": [
            "Collecting pretty_midi\n",
            "  Downloading pretty_midi-0.2.10.tar.gz (5.6 MB)\n",
            "\u001b[2K     \u001b[90m━━━━━━━━━━━━━━━━━━━━━━━━━━━━━━━━━━━━━━━━\u001b[0m \u001b[32m5.6/5.6 MB\u001b[0m \u001b[31m89.1 MB/s\u001b[0m eta \u001b[36m0:00:00\u001b[0m\n",
            "\u001b[?25h  Preparing metadata (setup.py) ... \u001b[?25l\u001b[?25hdone\n",
            "Requirement already satisfied: numpy>=1.7.0 in /usr/local/lib/python3.11/dist-packages (from pretty_midi) (2.0.2)\n",
            "Collecting mido>=1.1.16 (from pretty_midi)\n",
            "  Downloading mido-1.3.3-py3-none-any.whl.metadata (6.4 kB)\n",
            "Requirement already satisfied: six in /usr/local/lib/python3.11/dist-packages (from pretty_midi) (1.17.0)\n",
            "Requirement already satisfied: packaging in /usr/local/lib/python3.11/dist-packages (from mido>=1.1.16->pretty_midi) (25.0)\n",
            "Downloading mido-1.3.3-py3-none-any.whl (54 kB)\n",
            "\u001b[2K   \u001b[90m━━━━━━━━━━━━━━━━━━━━━━━━━━━━━━━━━━━━━━━━\u001b[0m \u001b[32m54.6/54.6 kB\u001b[0m \u001b[31m5.6 MB/s\u001b[0m eta \u001b[36m0:00:00\u001b[0m\n",
            "\u001b[?25hBuilding wheels for collected packages: pretty_midi\n",
            "  Building wheel for pretty_midi (setup.py) ... \u001b[?25l\u001b[?25hdone\n",
            "  Created wheel for pretty_midi: filename=pretty_midi-0.2.10-py3-none-any.whl size=5592286 sha256=b1749eaff8b99bb58cfcccc8eb0d3253865bf586e5a7390b6681ff435db5abd2\n",
            "  Stored in directory: /root/.cache/pip/wheels/e6/95/ac/15ceaeb2823b04d8e638fd1495357adb8d26c00ccac9d7782e\n",
            "Successfully built pretty_midi\n",
            "Installing collected packages: mido, pretty_midi\n",
            "Successfully installed mido-1.3.3 pretty_midi-0.2.10\n"
          ]
        }
      ],
      "source": [
        "# %pip install pretty_midi"
      ]
    },
    {
      "cell_type": "markdown",
      "id": "c880bafe",
      "metadata": {},
      "source": [
        "We'll download the dataset and start from scratch like before"
      ]
    },
    {
      "cell_type": "code",
      "execution_count": 6,
      "id": "6406f7f6",
      "metadata": {
        "colab": {
          "base_uri": "https://localhost:8080/"
        },
        "id": "6406f7f6",
        "outputId": "935abeff-b147-4a77-84fe-f493adf7de4e"
      },
      "outputs": [
        {
          "name": "stdout",
          "output_type": "stream",
          "text": [
            "Dataset downloaded and extracted to data/kaggle/midiclassics\n"
          ]
        }
      ],
      "source": [
        "# download dataset\n",
        "paths = download_dataset()"
      ]
    },
    {
      "cell_type": "markdown",
      "id": "ce9bd4dd",
      "metadata": {},
      "source": [
        "## Loading piano roll music files\n",
        "\n",
        "For this particular model, in order to prepare the piano roll data, the `load_segmented_dataset_no_overlap` function was created.\n",
        "It uses pretty_midi to load and process MIDI files for each target composer. The function performs the following steps:\n",
        "\n",
        "1. MIDI Loading and Segmentation:\n",
        "For each MIDI file, it uses pretty_midi to extract the full piano roll and then splits the music into non-overlapping segments of a specified duration (e.g., 20 seconds). This segmentation increases the number of training samples and ensures that each segment is a distinct, contiguous part of the music.\n",
        "\n",
        "2. Piano Roll Extraction and Normalization:\n",
        "Each segment is converted into a piano roll matrix (notes × time) using pretty_midi, and normalization is applied to standardize the data (such as focusing on the active pitch range).\n",
        "\n",
        "3. Feature Extraction:\n",
        "For every segment, the function computes a set of musical features (e.g., note density, pitch range, rhythmic patterns) that can be used for multi-modal or feature-based models.\n",
        "\n",
        "4. Quality Filtering:\n",
        "Segments that are too sparse (with very few notes) are filtered out to ensure only musically meaningful data is included.\n",
        "\n",
        "5. Class Balancing (Song-aware):\n",
        "The function balances the number of segments per composer by either downsampling or oversampling at the song level. This ensures that all segments from a single song are kept together in either the training or validation set, preventing data leakage.\n",
        "\n",
        "6. Caching:\n",
        "The processed dataset is cached to disk for faster loading in future runs. If the cache exists, it loads the data directly from cache.\n",
        "\n",
        "### Output:\n",
        "The function returns:\n",
        "\n",
        "- data: numpy array of piano roll segments (samples × notes × time)\n",
        "- labels: numpy array of integer labels (composer indices)\n",
        "- features: list of feature dictionaries for each segment\n",
        "- song_ids: list of unique identifiers for each segment (song and segment index)\n",
        "\n",
        "### In summary:\n",
        "`load_segmented_dataset_no_overlap` uses pretty_midi to segment, normalize, extract features, filter, balance, and cache a dataset of MIDI files, returning arrays and features ready for machine learning and deep learning experiments."
      ]
    },
    {
      "cell_type": "code",
      "execution_count": null,
      "id": "afc8bb3c",
      "metadata": {
        "colab": {
          "base_uri": "https://localhost:8080/"
        },
        "id": "afc8bb3c",
        "outputId": "f1bee820-526e-4248-91fa-6d28f9baf5c7"
      },
      "outputs": [
        {
          "name": "stdout",
          "output_type": "stream",
          "text": [
            "🎵 LOADING DATASET WITH NON-OVERLAPPING SEGMENTATION...\n",
            "Segment duration: 20.0s with NO OVERLAP\n",
            "Balance classes: True\n",
            "\n",
            "--- Processing Bach ---\n",
            "  Processed 10 files, created 192 segments...\n",
            "  Processed 20 files, created 331 segments...\n"
          ]
        },
        {
          "name": "stderr",
          "output_type": "stream",
          "text": [
            "/usr/local/lib/python3.11/dist-packages/pretty_midi/pretty_midi.py:100: RuntimeWarning: Tempo, Key or Time signature change events found on non-zero tracks.  This is not a valid type 0 or type 1 MIDI file.  Tempo, Key or Time Signature may be wrong.\n",
            "  warnings.warn(\n"
          ]
        },
        {
          "name": "stdout",
          "output_type": "stream",
          "text": [
            "  Processed 30 files, created 486 segments...\n",
            "  Processed 40 files, created 610 segments...\n",
            "  Processed 50 files, created 735 segments...\n",
            "  Processed 60 files, created 898 segments...\n",
            "  Processed 70 files, created 1110 segments...\n",
            "  Processed 80 files, created 1287 segments...\n",
            "  Processed 90 files, created 1522 segments...\n",
            "  Processed 100 files, created 1684 segments...\n",
            "  Processed 110 files, created 1891 segments...\n",
            "  Processed 120 files, created 2049 segments...\n",
            "  Processed 130 files, created 2270 segments...\n",
            "✅ Bach: 131 files → 2276 segments\n",
            "\n",
            "--- Processing Beethoven ---\n",
            "  Processed 10 files, created 268 segments...\n",
            "  Processed 20 files, created 444 segments...\n",
            "  Processed 30 files, created 584 segments...\n",
            "  Processed 40 files, created 757 segments...\n",
            "  Processed 50 files, created 887 segments...\n",
            "  Processed 60 files, created 1117 segments...\n",
            "  Processed 70 files, created 1304 segments...\n",
            "Error processing data/kaggle/midiclassics/Beethoven/Anhang 14-3.mid: Could not decode key with 3 flats and mode 255\n",
            "  Processed 80 files, created 1499 segments...\n",
            "  Processed 90 files, created 1670 segments...\n",
            "  Processed 100 files, created 1813 segments...\n",
            "  Processed 110 files, created 1935 segments...\n",
            "  Processed 120 files, created 2139 segments...\n",
            "  Processed 130 files, created 2248 segments...\n",
            "✅ Beethoven: 133 files → 2283 segments\n",
            "\n",
            "--- Processing Chopin ---\n",
            "  Processed 10 files, created 85 segments...\n",
            "  Processed 20 files, created 182 segments...\n",
            "  Processed 30 files, created 279 segments...\n",
            "  Processed 40 files, created 428 segments...\n",
            "  Processed 50 files, created 565 segments...\n",
            "  Processed 60 files, created 680 segments...\n",
            "  Processed 70 files, created 764 segments...\n",
            "  Processed 80 files, created 834 segments...\n",
            "  Processed 90 files, created 921 segments...\n",
            "  Processed 100 files, created 1005 segments...\n",
            "  Processed 110 files, created 1130 segments...\n",
            "  Processed 120 files, created 1260 segments...\n",
            "  Processed 130 files, created 1334 segments...\n",
            "✅ Chopin: 136 files → 1435 segments\n",
            "\n",
            "--- Processing Mozart ---\n",
            "  Processed 10 files, created 146 segments...\n",
            "  Processed 20 files, created 295 segments...\n",
            "  Processed 30 files, created 460 segments...\n",
            "  Processed 40 files, created 591 segments...\n",
            "  Processed 50 files, created 703 segments...\n",
            "  Processed 60 files, created 840 segments...\n",
            "  Processed 70 files, created 1004 segments...\n",
            "  Processed 80 files, created 1136 segments...\n",
            "  Processed 90 files, created 1238 segments...\n",
            "✅ Mozart: 90 files → 1238 segments\n",
            "\n",
            "⚖️ BALANCING CLASSES (SONG-AWARE, NO OVERLAP)...\n",
            "📊 Original segment distribution: {'Bach': 2276, 'Beethoven': 2283, 'Chopin': 1435, 'Mozart': 1238}\n",
            "🎯 Target segments per class: 2283\n",
            "  Bach: 2276 → 2283 (+7 from song duplication)\n",
            "  Beethoven: 2283 → 2283 (downsampled)\n",
            "  Chopin: 1435 → 2283 (+848 from song duplication)\n",
            "  Mozart: 1238 → 2283 (+1045 from song duplication)\n",
            "\n",
            "📊 FINAL BALANCED DATASET (NO OVERLAP):\n",
            "Total samples: 9132\n",
            "Data shape: (9132, 128, 2000)\n",
            "  Bach: 2283 samples\n",
            "  Beethoven: 2283 samples\n",
            "  Chopin: 2283 samples\n",
            "  Mozart: 2283 samples\n"
          ]
        }
      ],
      "source": [
        "TARGET_COMPOSERS = ['Bach', 'Beethoven', 'Chopin', 'Mozart']\n",
        "data, labels, features, song_ids = load_segmented_dataset_no_overlap(paths[\"extract_path\"], TARGET_COMPOSERS)"
      ]
    },
    {
      "cell_type": "code",
      "execution_count": null,
      "id": "5bc3c46b",
      "metadata": {
        "colab": {
          "base_uri": "https://localhost:8080/"
        },
        "id": "5bc3c46b",
        "outputId": "c356e7d1-dacd-424e-fbac-8f49e3cfc3f6"
      },
      "outputs": [
        {
          "data": {
            "text/plain": [
              "['data/kaggle/midiclassics/Bach/Bwv0916 Toccata.MID__0',\n",
              " 'data/kaggle/midiclassics/Bach/Bwv0916 Toccata.MID__1',\n",
              " 'data/kaggle/midiclassics/Bach/Bwv0916 Toccata.MID__2',\n",
              " 'data/kaggle/midiclassics/Bach/Bwv0916 Toccata.MID__3',\n",
              " 'data/kaggle/midiclassics/Bach/Bwv0916 Toccata.MID__4']"
            ]
          },
          "execution_count": 11,
          "metadata": {},
          "output_type": "execute_result"
        }
      ],
      "source": [
        "song_ids[0:5] # For example: ['Bach_0_0', 'Bach_0_1', 'Bach_0_2', 'Bach_0_3', 'Bach_0_4']"
      ]
    },
    {
      "cell_type": "markdown",
      "id": "bd40577e",
      "metadata": {},
      "source": [
        "## Loading engineered features\n",
        "In order to add multimodality to the model, part of the network will process musical features extracted from each file. The aim is to have features that have statistical significance and have the network associate them with certain convolutional patterns.\n"
      ]
    },
    {
      "cell_type": "markdown",
      "id": "64987e90",
      "metadata": {},
      "source": [
        "The load `load_comprehensive_features` function uses `extract_comprehensive_musical_features` internally to generate a detailed, normalized feature vector for each piano roll, capturing temporal, harmonic, dynamic, and stylistic aspects of the music. This enables more interpretable and multi-modal machine learning models. It works as follows:\n",
        "\n",
        "- Caching:\n",
        "To speed up training. If we've computed these features before, pull them from a file. Else, after computing the features, it saves them.\n",
        "\n",
        "- Feature Extraction:\n",
        "It computes features for each piano roll by calling the `extract_comprehensive_musical_features` function. The results are then cached for future use.\n",
        "\n",
        "### Features Extracted by extract_comprehensive_musical_features\n",
        "For each piano roll, the following features are extracted:\n",
        "\n",
        "#### Temporal/Rhythmic Features\n",
        "\n",
        "- `avg_notes_per_time`: Average number of notes played per time step.\n",
        "- `note_density_variance`: Variance of note density over time.\n",
        "- `note_density_std`: Standard deviation of note density over time.\n",
        "- `max_simultaneous_notes`: Maximum number of notes played at once.\n",
        "- `onset_density`: Frequency of new note onsets.\n",
        "- `silence_ratio`: Fraction of time steps with no notes played.\n",
        "- `temporal_sparsity`: Proportion of time steps with no activity.\n",
        "- `activity_bursts`: Frequency of bursts of musical activity.\n",
        "\n",
        "\n",
        "#### Pitch/Harmonic Features\n",
        "\n",
        "- `pitch_range`: Number of unique pitches used.\n",
        "- `lowest_pitch`: Lowest pitch played.\n",
        "- `highest_pitch`: Highest pitch played.\n",
        "- `pitch_span`: Difference between highest and lowest pitch.\n",
        "- `pitch_centroid`: Weighted average pitch (center of gravity).\n",
        "- `pitch_variance`: Variance of pitch activity.\n",
        "- `bass_activity`: Fraction of notes in the bass register (A0–B2).\n",
        "- `mid_activity`: Fraction of notes in the mid register (C3–B4).\n",
        "- `treble_activity`: Fraction of notes in the treble register (C5–B7).\n",
        "\n",
        "\n",
        "#### Other Harmonic Features\n",
        "\n",
        "- `chord_ratio`: Fraction of time steps with chords (3+ notes).\n",
        "- `single_note_ratio`: Fraction of time steps with only one note.\n",
        "- `polyphony_complexity`: Average number of notes played when there is activity.\n",
        "- `avg_chord_size`: Average number of notes in a chord.\n",
        "- `chord_variance`: Variance in chord sizes.\n",
        "\n",
        "\n",
        "#### Velocity/Dynamics Features\n",
        "\n",
        "- `avg_velocity`: Average note velocity (intensity).\n",
        "- `velocity_variance`: Variance of note velocities.\n",
        "- `velocity_range`: Range of velocities.\n",
        "- `dynamic_complexity`: Diversity of velocities used.\n",
        "\n",
        "\n",
        "#### Style-Specific Features\n",
        "\n",
        "- `overall_density`: Fraction of the piano roll that is active (notes played).\n",
        "- `rhythmic_regularity`: Inverse of note density variance (higher means more regular rhythm).\n",
        "- `pitch_movement_variance`: Variance in the movement of pitch centers over time.\n",
        "- `melodic_direction_changes`: Frequency of changes in melodic direction."
      ]
    },
    {
      "cell_type": "markdown",
      "id": "3b253354",
      "metadata": {},
      "source": [
        "Our feature extraction approach is aligned with established practices in Music Information Retrieval (MIR) and related pattern recognition tasks, where the goal is to capture multiple aspects of the signal through diverse features. As noted in Dell’Aversana et al. (2016):\n",
        "\n",
        "> “Pattern recognition is commonly based on the extraction of several features from the data. A feature is a specific piece of information that can be used for characterizing the data itself.” (p. 414)\n",
        "\n",
        "MIR research commonly groups musical features into categories that match the design of `extract_comprehensive_musical_features`:\n",
        "\n",
        "> “Musical features typically fall into one of three main categories: low-level, high-level and cultural features. Spectral or time-domain information… belong to the first category. Melodic contour, chord frequencies and rhythmic properties are typical examples of high-level features.” (p. 414)\n",
        "\n",
        "A major benefit of symbolic formats such as MIDI is their ability to store richer descriptors:\n",
        "\n",
        "> “Many new attributes can be introduced… after transforming… into MIDI format… symbolic representations… can store high-level musical information… rhythmic, melodic and harmonic patterns, chord sequences and other significant structures.” (p. 417)\n",
        "\n",
        "Empirical results show that including such high-level, polyphonic features improves classification outcomes:\n",
        "\n",
        "> “When also ‘high-level’ MIDI features are included (such as rhythmic, melodic and harmonic multi-valued features), the classification performance improves in terms of cluster separation.” (p. 425)\n",
        "\n",
        "By incorporating temporal, harmonic, dynamic, and stylistic descriptors, our feature set follows the same principle: using a broad, multi-level representation to improve the interpretability and performance of downstream machine learning models.\n",
        "\n",
        "\n",
        "\n",
        "### References\n",
        "\n",
        "Dell’Aversana, P., Gabbriellini, G., Marini, A. I., & Amendola, A. (2016). Application of Musical Information Retrieval (MIR) techniques to seismic facies classification: Examples in hydrocarbon exploration. *AIMS Geosciences, 2*(4), 413–425. https://doi.org/10.3934/geosci.2016.4.413"
      ]
    },
    {
      "cell_type": "code",
      "execution_count": null,
      "id": "df36a080",
      "metadata": {
        "colab": {
          "base_uri": "https://localhost:8080/"
        },
        "id": "df36a080",
        "outputId": "b0dcef52-6a38-431f-8118-ce282d04e617"
      },
      "outputs": [
        {
          "name": "stdout",
          "output_type": "stream",
          "text": [
            "✅ Saved comprehensive_features to cache: local_cache/comprehensive_musical_features.pkl\n"
          ]
        }
      ],
      "source": [
        "# gets the extracted features for multi-modal learning\n",
        "comprehensive_features = load_comprehensive_features(data)"
      ]
    },
    {
      "cell_type": "code",
      "execution_count": 13,
      "id": "928b06ed",
      "metadata": {
        "colab": {
          "base_uri": "https://localhost:8080/"
        },
        "id": "928b06ed",
        "outputId": "2c9be577-c0b8-4d03-e6ee-555d5d5b1319"
      },
      "outputs": [
        {
          "data": {
            "text/plain": [
              "(4, 30)"
            ]
          },
          "execution_count": 13,
          "metadata": {},
          "output_type": "execute_result"
        }
      ],
      "source": [
        "num_classes = len(TARGET_COMPOSERS)\n",
        "num_features = len(comprehensive_features[0])\n",
        "\n",
        "num_classes, num_features"
      ]
    },
    {
      "cell_type": "markdown",
      "id": "5b01da76",
      "metadata": {},
      "source": [
        "There were multiple iterations of this model, but this was the one that gave us the best result"
      ]
    },
    {
      "cell_type": "code",
      "execution_count": null,
      "id": "2aed6424",
      "metadata": {
        "colab": {
          "base_uri": "https://localhost:8080/"
        },
        "id": "2aed6424",
        "outputId": "34ba88d8-d88a-48ce-ba6e-890c4045cec6"
      },
      "outputs": [
        {
          "name": "stdout",
          "output_type": "stream",
          "text": [
            "🏗️ CNN-MLP Model Architecture Defined!\n",
            "• CNN Stream: Processes piano roll visual patterns\n",
            "• MLP Stream: Processes hand-crafted musical features\n",
            "• Fusion Layer: Combines both streams for classification\n"
          ]
        }
      ],
      "source": [
        "class MultimodalComposerClassifier(nn.Module):\n",
        "    \"\"\"\n",
        "    Multimodal architecture combining CNN (piano rolls) + MLP (musical features)\n",
        "    \"\"\"\n",
        "    def __init__(self, num_classes=4, num_features=None):\n",
        "        super(MultimodalComposerClassifier, self).__init__()\n",
        "\n",
        "        # CNN Stream for Piano Rolls (visual patterns)\n",
        "        self.cnn_stream = nn.Sequential(\n",
        "            # Block 1\n",
        "            nn.Conv2d(1, 32, kernel_size=(3, 3), padding=1),\n",
        "            nn.BatchNorm2d(32),\n",
        "            nn.ReLU(),\n",
        "            nn.Conv2d(32, 32, kernel_size=(3, 3), padding=1),\n",
        "            nn.BatchNorm2d(32),\n",
        "            nn.ReLU(),\n",
        "            nn.Dropout2d(0.2),\n",
        "            nn.MaxPool2d(kernel_size=(2, 2)),\n",
        "\n",
        "            # Block 2\n",
        "            nn.Conv2d(32, 64, kernel_size=(3, 3), padding=1),\n",
        "            nn.BatchNorm2d(64),\n",
        "            nn.ReLU(),\n",
        "            nn.Conv2d(64, 64, kernel_size=(3, 3), padding=1),\n",
        "            nn.BatchNorm2d(64),\n",
        "            nn.ReLU(),\n",
        "            nn.Dropout2d(0.3),\n",
        "            nn.MaxPool2d(kernel_size=(2, 2)),\n",
        "\n",
        "            # Block 3\n",
        "            nn.Conv2d(64, 128, kernel_size=(3, 3), padding=1),\n",
        "            nn.BatchNorm2d(128),\n",
        "            nn.ReLU(),\n",
        "            nn.Conv2d(128, 128, kernel_size=(3, 3), padding=1),\n",
        "            nn.BatchNorm2d(128),\n",
        "            nn.ReLU(),\n",
        "            nn.Dropout2d(0.4),\n",
        "            nn.MaxPool2d(kernel_size=(2, 2)),\n",
        "\n",
        "            # Global pooling instead of LSTM\n",
        "            nn.AdaptiveAvgPool2d((1, 1)),\n",
        "            nn.Flatten()\n",
        "        )\n",
        "\n",
        "        # MLP Stream for Musical Features (hand-crafted features)\n",
        "        self.mlp_stream = nn.Sequential(\n",
        "            nn.Linear(num_features, 128),\n",
        "            nn.ReLU(),\n",
        "            nn.Dropout(0.3),\n",
        "            nn.Linear(128, 64),\n",
        "            nn.ReLU(),\n",
        "            nn.Dropout(0.2),\n",
        "            nn.Linear(64, 32),\n",
        "            nn.ReLU(),\n",
        "            nn.Dropout(0.1)\n",
        "        )\n",
        "\n",
        "        # Fusion Layer (combine both streams)\n",
        "        self.fusion = nn.Sequential(\n",
        "            nn.Linear(128 + 32, 256),  # 128 from CNN + 32 from MLP\n",
        "            nn.ReLU(),\n",
        "            nn.Dropout(0.4),\n",
        "            nn.Linear(256, 128),\n",
        "            nn.ReLU(),\n",
        "            nn.Dropout(0.3),\n",
        "            nn.Linear(128, 64),\n",
        "            nn.ReLU(),\n",
        "            nn.Dropout(0.2),\n",
        "            nn.Linear(64, num_classes)\n",
        "        )\n",
        "\n",
        "    def forward(self, piano_roll, features):\n",
        "        cnn_features = self.cnn_stream(piano_roll) # piano rolls go through CNN\n",
        "        mlp_features = self.mlp_stream(features) # hand-crafted features go through MLP\n",
        "        combined = torch.cat([cnn_features, mlp_features], dim=1) # we put the outputs together for multimodality\n",
        "        output = self.fusion(combined) # Now, we fuse the two streams into a final layer and classify\n",
        "        return output"
      ]
    },
    {
      "cell_type": "code",
      "execution_count": null,
      "id": "b2b8d90a",
      "metadata": {
        "colab": {
          "base_uri": "https://localhost:8080/"
        },
        "id": "b2b8d90a",
        "outputId": "92a2fd89-4c78-4e3f-8c9d-f4756ff5e2a9"
      },
      "outputs": [
        {
          "name": "stdout",
          "output_type": "stream",
          "text": [
            "✅ CNN-MLP training function defined\n"
          ]
        }
      ],
      "source": [
        "def train_cnn_mlp_model(model, train_loader, val_loader, criterion, optimizer, scheduler, epochs=40, device='cpu'):\n",
        "    \"\"\"\n",
        "    Train the CNN-MLP multimodal model\n",
        "\n",
        "    Args:\n",
        "        model: CNN-MLP model to train\n",
        "        train_loader: Training data loader\n",
        "        val_loader: Validation data loader\n",
        "        criterion: Loss function\n",
        "        optimizer: Optimizer\n",
        "        scheduler: Learning rate scheduler\n",
        "        epochs (int): Number of epochs to train\n",
        "        device (str): Device to train on\n",
        "\n",
        "    Returns:\n",
        "        tuple: (train_losses, val_accuracies)\n",
        "    \"\"\"\n",
        "    train_losses = []\n",
        "    val_accuracies = []\n",
        "\n",
        "    for epoch in range(epochs):\n",
        "        # Training\n",
        "        model.train()\n",
        "        epoch_loss = 0.0\n",
        "\n",
        "        for piano_rolls, features, labels in train_loader:\n",
        "            piano_rolls, features, labels = piano_rolls.to(device), features.to(device), labels.to(device)\n",
        "\n",
        "            optimizer.zero_grad()\n",
        "            outputs = model(piano_rolls, features)\n",
        "            loss = criterion(outputs, labels)\n",
        "            loss.backward()\n",
        "            optimizer.step()\n",
        "\n",
        "            epoch_loss += loss.item()\n",
        "\n",
        "        # Validation\n",
        "        model.eval()\n",
        "        correct = 0\n",
        "        total = 0\n",
        "\n",
        "        with torch.no_grad():\n",
        "            for piano_rolls, features, labels in val_loader:\n",
        "                piano_rolls, features, labels = piano_rolls.to(device), features.to(device), labels.to(device)\n",
        "                outputs = model(piano_rolls, features)\n",
        "                _, predicted = torch.max(outputs.data, 1)\n",
        "                total += labels.size(0)\n",
        "                correct += (predicted == labels).sum().item()\n",
        "\n",
        "        val_accuracy = 100 * correct / total\n",
        "        avg_loss = epoch_loss / len(train_loader)\n",
        "\n",
        "        train_losses.append(avg_loss)\n",
        "        val_accuracies.append(val_accuracy)\n",
        "\n",
        "        print(f'[CNN-MLP] Epoch [{epoch+1}/{epochs}], Loss: {avg_loss:.4f}, Val Acc: {val_accuracy:.2f}%')\n",
        "\n",
        "        scheduler.step()\n",
        "\n",
        "    return train_losses, val_accuracies\n",
        "\n",
        "print(\"CNN-MLP training function defined\")"
      ]
    },
    {
      "cell_type": "markdown",
      "id": "94ccabcb",
      "metadata": {},
      "source": [
        "Given the computational cost, we have not tried hyper parameter tuning, nor explored different optimizers, however, learning rate was tweaked"
      ]
    },
    {
      "cell_type": "code",
      "execution_count": 14,
      "id": "56a4b698",
      "metadata": {
        "id": "56a4b698"
      },
      "outputs": [],
      "source": [
        "model = MultimodalComposerClassifier(num_classes=num_classes, num_features=num_features).to(device)\n",
        "criterion = nn.CrossEntropyLoss()\n",
        "optimizer = optim.Adam(model.parameters(), lr=0.001, weight_decay=1e-4)\n",
        "scheduler = optim.lr_scheduler.StepLR(optimizer, step_size=10, gamma=0.7)"
      ]
    },
    {
      "cell_type": "code",
      "execution_count": 15,
      "id": "f781d4d9",
      "metadata": {
        "colab": {
          "base_uri": "https://localhost:8080/"
        },
        "id": "f781d4d9",
        "outputId": "b7d49615-7f3c-4f78-cfc1-08d3c064b114"
      },
      "outputs": [
        {
          "name": "stdout",
          "output_type": "stream",
          "text": [
            "📊 Feature Processing:\n",
            "• Feature names: ['avg_notes_per_time', 'note_density_variance', 'note_density_std', 'max_simultaneous_notes', 'onset_density']...\n",
            "• Features normalized: mean≈0, std≈1\n",
            "✅ Multimodal Dataset Created:\n",
            "• Piano rolls: torch.Size([7305, 128, 2000])\n",
            "• Features: torch.Size([7305, 30])\n",
            "• Labels: torch.Size([7305])\n",
            "• Total samples: 7305\n",
            "📊 Feature Processing:\n",
            "• Feature names: ['avg_notes_per_time', 'note_density_variance', 'note_density_std', 'max_simultaneous_notes', 'onset_density']...\n",
            "• Features normalized: mean≈0, std≈1\n",
            "✅ Multimodal Dataset Created:\n",
            "• Piano rolls: torch.Size([1827, 128, 2000])\n",
            "• Features: torch.Size([1827, 30])\n",
            "• Labels: torch.Size([1827])\n",
            "• Total samples: 1827\n",
            "📊 Songwise Data Loaders Created:\n",
            "• Training samples: 7305\n",
            "• Validation samples: 1827\n",
            "• Batch size: 32\n"
          ]
        }
      ],
      "source": [
        "train_loader, val_loader = create_songwise_data_loaders(\n",
        "    data,\n",
        "    labels,\n",
        "    comprehensive_features,\n",
        "    song_ids,\n",
        "    batch_size=32,\n",
        "    train_split=0.8,\n",
        "    dataset_class=MultimodalDataset\n",
        ")"
      ]
    },
    {
      "cell_type": "code",
      "execution_count": 16,
      "id": "41243e75",
      "metadata": {
        "colab": {
          "base_uri": "https://localhost:8080/"
        },
        "id": "41243e75",
        "outputId": "189711d7-0b89-45ea-ef86-864a0d2e162f"
      },
      "outputs": [
        {
          "name": "stdout",
          "output_type": "stream",
          "text": [
            "[CNN-MLP] Epoch [1/40], Loss: 1.0743, Val Acc: 65.79%\n",
            "[CNN-MLP] Epoch [2/40], Loss: 0.8239, Val Acc: 72.19%\n",
            "[CNN-MLP] Epoch [3/40], Loss: 0.7424, Val Acc: 74.82%\n",
            "[CNN-MLP] Epoch [4/40], Loss: 0.6899, Val Acc: 77.94%\n",
            "[CNN-MLP] Epoch [5/40], Loss: 0.6579, Val Acc: 78.98%\n",
            "[CNN-MLP] Epoch [6/40], Loss: 0.6186, Val Acc: 81.39%\n",
            "[CNN-MLP] Epoch [7/40], Loss: 0.5987, Val Acc: 82.87%\n",
            "[CNN-MLP] Epoch [8/40], Loss: 0.5794, Val Acc: 82.70%\n",
            "[CNN-MLP] Epoch [9/40], Loss: 0.5596, Val Acc: 83.31%\n",
            "[CNN-MLP] Epoch [10/40], Loss: 0.5407, Val Acc: 83.80%\n",
            "[CNN-MLP] Epoch [11/40], Loss: 0.5136, Val Acc: 84.78%\n",
            "[CNN-MLP] Epoch [12/40], Loss: 0.4955, Val Acc: 85.06%\n",
            "[CNN-MLP] Epoch [13/40], Loss: 0.4953, Val Acc: 85.11%\n",
            "[CNN-MLP] Epoch [14/40], Loss: 0.4785, Val Acc: 86.43%\n",
            "[CNN-MLP] Epoch [15/40], Loss: 0.4628, Val Acc: 87.19%\n",
            "[CNN-MLP] Epoch [16/40], Loss: 0.4463, Val Acc: 86.81%\n",
            "[CNN-MLP] Epoch [17/40], Loss: 0.4473, Val Acc: 86.86%\n",
            "[CNN-MLP] Epoch [18/40], Loss: 0.4354, Val Acc: 87.41%\n",
            "[CNN-MLP] Epoch [19/40], Loss: 0.4178, Val Acc: 87.30%\n",
            "[CNN-MLP] Epoch [20/40], Loss: 0.4064, Val Acc: 87.85%\n",
            "[CNN-MLP] Epoch [21/40], Loss: 0.3924, Val Acc: 88.51%\n",
            "[CNN-MLP] Epoch [22/40], Loss: 0.3897, Val Acc: 88.12%\n",
            "[CNN-MLP] Epoch [23/40], Loss: 0.3736, Val Acc: 88.12%\n",
            "[CNN-MLP] Epoch [24/40], Loss: 0.3697, Val Acc: 88.29%\n",
            "[CNN-MLP] Epoch [25/40], Loss: 0.3676, Val Acc: 88.40%\n",
            "[CNN-MLP] Epoch [26/40], Loss: 0.3722, Val Acc: 88.94%\n",
            "[CNN-MLP] Epoch [27/40], Loss: 0.3706, Val Acc: 89.44%\n",
            "[CNN-MLP] Epoch [28/40], Loss: 0.3599, Val Acc: 89.16%\n",
            "[CNN-MLP] Epoch [29/40], Loss: 0.3533, Val Acc: 89.71%\n",
            "[CNN-MLP] Epoch [30/40], Loss: 0.3583, Val Acc: 88.56%\n",
            "[CNN-MLP] Epoch [31/40], Loss: 0.3267, Val Acc: 90.04%\n",
            "[CNN-MLP] Epoch [32/40], Loss: 0.3260, Val Acc: 89.33%\n",
            "[CNN-MLP] Epoch [33/40], Loss: 0.3193, Val Acc: 89.76%\n",
            "[CNN-MLP] Epoch [34/40], Loss: 0.3305, Val Acc: 89.87%\n",
            "[CNN-MLP] Epoch [35/40], Loss: 0.3266, Val Acc: 89.33%\n",
            "[CNN-MLP] Epoch [36/40], Loss: 0.3191, Val Acc: 89.98%\n",
            "[CNN-MLP] Epoch [37/40], Loss: 0.3137, Val Acc: 90.37%\n",
            "[CNN-MLP] Epoch [38/40], Loss: 0.3116, Val Acc: 90.31%\n",
            "[CNN-MLP] Epoch [39/40], Loss: 0.3188, Val Acc: 90.59%\n",
            "[CNN-MLP] Epoch [40/40], Loss: 0.3153, Val Acc: 91.08%\n"
          ]
        }
      ],
      "source": [
        "EPOCHS = 40\n",
        "train_losses, val_accuracies = train_cnn_mlp_model(\n",
        "    model,\n",
        "    train_loader,\n",
        "    val_loader,\n",
        "    criterion,\n",
        "    optimizer,\n",
        "    scheduler,\n",
        "    epochs=EPOCHS,\n",
        "    device=device\n",
        ")"
      ]
    },
    {
      "cell_type": "code",
      "execution_count": 17,
      "id": "298bd472",
      "metadata": {
        "colab": {
          "base_uri": "https://localhost:8080/",
          "height": 1000
        },
        "id": "298bd472",
        "outputId": "b3f98edf-3eb7-45b2-f291-4488a942a2a3"
      },
      "outputs": [
        {
          "name": "stdout",
          "output_type": "stream",
          "text": [
            "🔍 EVALUATING MODEL...\n",
            "\n",
            "📊 CLASSIFICATION REPORT:\n",
            "============================================================\n",
            "              precision    recall  f1-score   support\n",
            "\n",
            "        Bach     0.9491    0.9147    0.9316       469\n",
            "   Beethoven     0.8684    0.8665    0.8675       457\n",
            "      Chopin     0.9342    0.9537    0.9439       432\n",
            "      Mozart     0.8933    0.9104    0.9018       469\n",
            "\n",
            "    accuracy                         0.9108      1827\n",
            "   macro avg     0.9113    0.9113    0.9112      1827\n",
            "weighted avg     0.9111    0.9108    0.9108      1827\n",
            "\n"
          ]
        },
        {
          "data": {
            "image/png": "[encoded data removed]",
            "text/plain": [
              "<Figure size 1000x800 with 2 Axes>"
            ]
          },
          "metadata": {},
          "output_type": "display_data"
        },
        {
          "name": "stdout",
          "output_type": "stream",
          "text": [
            "\n",
            "🎯 PER-CLASS ACCURACY:\n",
            "========================================\n",
            "Bach        : 0.9147 (91.47%)\n",
            "Beethoven   : 0.8665 (86.65%)\n",
            "Chopin      : 0.9537 (95.37%)\n",
            "Mozart      : 0.9104 (91.04%)\n",
            "\n",
            "🏆 OVERALL ACCURACY: 0.9108 (91.08%)\n",
            "\n",
            "❌ MOST CONFUSED PAIRS:\n",
            "========================================\n",
            "Mozart → Beethoven: 28 samples\n",
            "Beethoven → Mozart: 27 samples\n",
            "Beethoven → Chopin: 24 samples\n",
            "Bach → Mozart: 21 samples\n",
            "Bach → Beethoven: 17 samples\n"
          ]
        }
      ],
      "source": [
        "results = evaluate_model_comprehensive(model, val_loader, TARGET_COMPOSERS, device)"
      ]
    },
    {
      "cell_type": "code",
      "execution_count": null,
      "id": "f4QOVeg-pDBi",
      "metadata": {
        "colab": {
          "base_uri": "https://localhost:8080/"
        },
        "id": "f4QOVeg-pDBi",
        "outputId": "84422611-c125-467d-864d-081d9821224b"
      },
      "outputs": [
        {
          "name": "stdout",
          "output_type": "stream",
          "text": [
            "✅ Model saved to saved_models!\n"
          ]
        }
      ],
      "source": [
        "# Create the directory if it doesn't exist\n",
        "save_dir = '../saved_models'\n",
        "os.makedirs(save_dir, exist_ok=True)\n",
        "\n",
        "# Save the model\n",
        "torch.save(model.state_dict(), os.path.join(save_dir, 'cnn_mlp_composer_classifier.pth'))\n",
        "print(f\"Model saved to {save_dir}!\")"
      ]
    },
    {
      "cell_type": "markdown",
      "id": "afba91cf",
      "metadata": {},
      "source": [
        "## Summary of CNN-MLP Multimodal model\n",
        "\n",
        "The CNN-MLP Multimodal Composer Classifier achieved impressive results by combining convolutional layers for piano roll data with a separate MLP stream for engineered musical features. This multimodal approach allowed the model to leverage both visual patterns and statistical musical features, resulting in an overall **accuracy of 91.08%**.\n",
        "91.08% overall accuracy on the validation set.\n",
        "\n",
        "\n",
        "#### Significant Improvement:\n",
        "This multimodal approach represents a great improvement compared to previous attempts. The best models without multimodality had only achieved accuracies around 70%, highlighting the value of combining CNNs with engineered features.\n",
        "\n",
        "#### Potential for Further Optimization:\n",
        "The evaluation could have been slightly better if the best model state during training (based on validation accuracy) was saved and used for evaluation. Currently, the final model state after all epochs is used, which may not necessarily correspond to the best-performing state. Additionally, I think we could further refine features and mixin some features obtained through the `music21` library. Some work has to be done to identify which features may be the strongest identifiers for our least performing classes and prioritize them.\n",
        "\n",
        "Anyhow, this result demonstrates the effectiveness of multimodal learning in composer classification tasks and sets a strong baseline for future experiments."
      ]
    },
    {
      "cell_type": "markdown",
      "id": "cab9f4bd",
      "metadata": {},
      "source": []
    }
  ],
  "metadata": {
    "accelerator": "GPU",
    "colab": {
      "gpuType": "A100",
      "provenance": []
    },
    "kernelspec": {
      "display_name": "ds_base",
      "language": "python",
      "name": "python3"
    },
    "language_info": {
      "codemirror_mode": {
        "name": "ipython",
        "version": 3
      },
      "file_extension": ".py",
      "mimetype": "text/x-python",
      "name": "python",
      "nbconvert_exporter": "python",
      "pygments_lexer": "ipython3",
      "version": "3.12.3"
    }
  },
  "nbformat": 4,
  "nbformat_minor": 5
}

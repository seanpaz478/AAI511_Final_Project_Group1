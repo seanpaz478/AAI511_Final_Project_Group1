{
  "cells": [
    {
      "cell_type": "markdown",
      "id": "33a56841",
      "metadata": {
        "id": "33a56841"
      },
      "source": [
        "# CNN-MLP Multimodal Composer Classification\n",
        "\n",
        "This notebook contains the CNN-MLP fusion model architecture and training pipeline for composer classification.\n",
        "\n",
        "## Model Architecture\n",
        "- **CNN Stream**: Processes piano roll data for visual pattern recognition\n",
        "- **MLP Stream**: Processes hand-crafted musical features\n",
        "- **Fusion Layer**: Combines both streams for final classification"
      ]
    },
    {
      "cell_type": "code",
      "execution_count": 4,
      "id": "cDauKTk3gSZa",
      "metadata": {
        "colab": {
          "base_uri": "https://localhost:8080/"
        },
        "id": "cDauKTk3gSZa",
        "outputId": "eb5a2fd7-1e65-4c40-cc8d-a7b29c49ae92"
      },
      "outputs": [
        {
          "name": "stdout",
          "output_type": "stream",
          "text": [
            "Collecting pretty_midi\n",
            "  Downloading pretty_midi-0.2.10.tar.gz (5.6 MB)\n",
            "\u001b[2K     \u001b[90m━━━━━━━━━━━━━━━━━━━━━━━━━━━━━━━━━━━━━━━━\u001b[0m \u001b[32m5.6/5.6 MB\u001b[0m \u001b[31m89.1 MB/s\u001b[0m eta \u001b[36m0:00:00\u001b[0m\n",
            "\u001b[?25h  Preparing metadata (setup.py) ... \u001b[?25l\u001b[?25hdone\n",
            "Requirement already satisfied: numpy>=1.7.0 in /usr/local/lib/python3.11/dist-packages (from pretty_midi) (2.0.2)\n",
            "Collecting mido>=1.1.16 (from pretty_midi)\n",
            "  Downloading mido-1.3.3-py3-none-any.whl.metadata (6.4 kB)\n",
            "Requirement already satisfied: six in /usr/local/lib/python3.11/dist-packages (from pretty_midi) (1.17.0)\n",
            "Requirement already satisfied: packaging in /usr/local/lib/python3.11/dist-packages (from mido>=1.1.16->pretty_midi) (25.0)\n",
            "Downloading mido-1.3.3-py3-none-any.whl (54 kB)\n",
            "\u001b[2K   \u001b[90m━━━━━━━━━━━━━━━━━━━━━━━━━━━━━━━━━━━━━━━━\u001b[0m \u001b[32m54.6/54.6 kB\u001b[0m \u001b[31m5.6 MB/s\u001b[0m eta \u001b[36m0:00:00\u001b[0m\n",
            "\u001b[?25hBuilding wheels for collected packages: pretty_midi\n",
            "  Building wheel for pretty_midi (setup.py) ... \u001b[?25l\u001b[?25hdone\n",
            "  Created wheel for pretty_midi: filename=pretty_midi-0.2.10-py3-none-any.whl size=5592286 sha256=b1749eaff8b99bb58cfcccc8eb0d3253865bf586e5a7390b6681ff435db5abd2\n",
            "  Stored in directory: /root/.cache/pip/wheels/e6/95/ac/15ceaeb2823b04d8e638fd1495357adb8d26c00ccac9d7782e\n",
            "Successfully built pretty_midi\n",
            "Installing collected packages: mido, pretty_midi\n",
            "Successfully installed mido-1.3.3 pretty_midi-0.2.10\n"
          ]
        }
      ],
      "source": [
        "%pip install pretty_midi"
      ]
    },
    {
      "cell_type": "code",
      "execution_count": 1,
      "id": "af68ec15",
      "metadata": {
        "id": "af68ec15"
      },
      "outputs": [],
      "source": [
        "import torch\n",
        "import torch.nn as nn\n",
        "import torch.optim as optim\n",
        "from torch.utils.data import DataLoader\n",
        "import os\n",
        "import pickle"
      ]
    },
    {
      "cell_type": "code",
      "execution_count": null,
      "id": "bf9f2727",
      "metadata": {
        "colab": {
          "base_uri": "https://localhost:8080/"
        },
        "id": "bf9f2727",
        "outputId": "04a8ef48-e7c3-4122-9549-04ca8a2d45aa"
      },
      "outputs": [
        {
          "name": "stdout",
          "output_type": "stream",
          "text": [
            "🔧 Utils and dependencies imported\n",
            "🚀 Using CUDA GPU: NVIDIA A100-SXM4-40GB\n"
          ]
        }
      ],
      "source": [
        "import importlib\n",
        "import utils\n",
        "\n",
        "importlib.reload(utils)\n",
        "\n",
        "from utils import *\n",
        "\n",
        "print(\"🔧 Utils and dependencies imported\")\n",
        "device = get_device()"
      ]
    },
    {
      "cell_type": "code",
      "execution_count": 6,
      "id": "6406f7f6",
      "metadata": {
        "colab": {
          "base_uri": "https://localhost:8080/"
        },
        "id": "6406f7f6",
        "outputId": "935abeff-b147-4a77-84fe-f493adf7de4e"
      },
      "outputs": [
        {
          "name": "stdout",
          "output_type": "stream",
          "text": [
            "Dataset downloaded and extracted to data/kaggle/midiclassics\n"
          ]
        }
      ],
      "source": [
        "# download dataset\n",
        "paths = download_dataset()"
      ]
    },
    {
      "cell_type": "code",
      "execution_count": null,
      "id": "2aed6424",
      "metadata": {
        "colab": {
          "base_uri": "https://localhost:8080/"
        },
        "id": "2aed6424",
        "outputId": "34ba88d8-d88a-48ce-ba6e-890c4045cec6"
      },
      "outputs": [
        {
          "name": "stdout",
          "output_type": "stream",
          "text": [
            "🏗️ CNN-MLP Model Architecture Defined!\n",
            "• CNN Stream: Processes piano roll visual patterns\n",
            "• MLP Stream: Processes hand-crafted musical features\n",
            "• Fusion Layer: Combines both streams for classification\n"
          ]
        }
      ],
      "source": [
        "class MultimodalComposerClassifier(nn.Module):\n",
        "    \"\"\"\n",
        "    Multimodal architecture combining CNN (piano rolls) + MLP (musical features)\n",
        "    \"\"\"\n",
        "    def __init__(self, num_classes=4, num_features=None):\n",
        "        super(MultimodalComposerClassifier, self).__init__()\n",
        "\n",
        "        # CNN Stream for Piano Rolls (visual patterns)\n",
        "        self.cnn_stream = nn.Sequential(\n",
        "            # Block 1\n",
        "            nn.Conv2d(1, 32, kernel_size=(3, 3), padding=1),\n",
        "            nn.BatchNorm2d(32),\n",
        "            nn.ReLU(),\n",
        "            nn.Conv2d(32, 32, kernel_size=(3, 3), padding=1),\n",
        "            nn.BatchNorm2d(32),\n",
        "            nn.ReLU(),\n",
        "            nn.Dropout2d(0.2),\n",
        "            nn.MaxPool2d(kernel_size=(2, 2)),\n",
        "\n",
        "            # Block 2\n",
        "            nn.Conv2d(32, 64, kernel_size=(3, 3), padding=1),\n",
        "            nn.BatchNorm2d(64),\n",
        "            nn.ReLU(),\n",
        "            nn.Conv2d(64, 64, kernel_size=(3, 3), padding=1),\n",
        "            nn.BatchNorm2d(64),\n",
        "            nn.ReLU(),\n",
        "            nn.Dropout2d(0.3),\n",
        "            nn.MaxPool2d(kernel_size=(2, 2)),\n",
        "\n",
        "            # Block 3\n",
        "            nn.Conv2d(64, 128, kernel_size=(3, 3), padding=1),\n",
        "            nn.BatchNorm2d(128),\n",
        "            nn.ReLU(),\n",
        "            nn.Conv2d(128, 128, kernel_size=(3, 3), padding=1),\n",
        "            nn.BatchNorm2d(128),\n",
        "            nn.ReLU(),\n",
        "            nn.Dropout2d(0.4),\n",
        "            nn.MaxPool2d(kernel_size=(2, 2)),\n",
        "\n",
        "            # Global pooling instead of LSTM\n",
        "            nn.AdaptiveAvgPool2d((1, 1)),\n",
        "            nn.Flatten()\n",
        "        )\n",
        "\n",
        "        # MLP Stream for Musical Features (hand-crafted features)\n",
        "        self.mlp_stream = nn.Sequential(\n",
        "            nn.Linear(num_features, 128),\n",
        "            nn.ReLU(),\n",
        "            nn.Dropout(0.3),\n",
        "            nn.Linear(128, 64),\n",
        "            nn.ReLU(),\n",
        "            nn.Dropout(0.2),\n",
        "            nn.Linear(64, 32),\n",
        "            nn.ReLU(),\n",
        "            nn.Dropout(0.1)\n",
        "        )\n",
        "\n",
        "        # Fusion Layer (combine both streams)\n",
        "        self.fusion = nn.Sequential(\n",
        "            nn.Linear(128 + 32, 256),  # 128 from CNN + 32 from MLP\n",
        "            nn.ReLU(),\n",
        "            nn.Dropout(0.4),\n",
        "            nn.Linear(256, 128),\n",
        "            nn.ReLU(),\n",
        "            nn.Dropout(0.3),\n",
        "            nn.Linear(128, 64),\n",
        "            nn.ReLU(),\n",
        "            nn.Dropout(0.2),\n",
        "            nn.Linear(64, num_classes)\n",
        "        )\n",
        "\n",
        "    def forward(self, piano_roll, features):\n",
        "        cnn_features = self.cnn_stream(piano_roll) # piano rolls go through CNN\n",
        "        mlp_features = self.mlp_stream(features) # hand-crafted features go through MLP\n",
        "        combined = torch.cat([cnn_features, mlp_features], dim=1) # we put the outputs together for multimodality\n",
        "        output = self.fusion(combined) # Now, we fuse the two streams into a final layer and classify\n",
        "        return output"
      ]
    },
    {
      "cell_type": "code",
      "execution_count": null,
      "id": "b2b8d90a",
      "metadata": {
        "colab": {
          "base_uri": "https://localhost:8080/"
        },
        "id": "b2b8d90a",
        "outputId": "92a2fd89-4c78-4e3f-8c9d-f4756ff5e2a9"
      },
      "outputs": [
        {
          "name": "stdout",
          "output_type": "stream",
          "text": [
            "✅ CNN-MLP training function defined\n"
          ]
        }
      ],
      "source": [
        "def train_cnn_mlp_model(model, train_loader, val_loader, criterion, optimizer, scheduler, epochs=40, device='cpu'):\n",
        "    \"\"\"\n",
        "    Train the CNN-MLP multimodal model\n",
        "\n",
        "    Args:\n",
        "        model: CNN-MLP model to train\n",
        "        train_loader: Training data loader\n",
        "        val_loader: Validation data loader\n",
        "        criterion: Loss function\n",
        "        optimizer: Optimizer\n",
        "        scheduler: Learning rate scheduler\n",
        "        epochs (int): Number of epochs to train\n",
        "        device (str): Device to train on\n",
        "\n",
        "    Returns:\n",
        "        tuple: (train_losses, val_accuracies)\n",
        "    \"\"\"\n",
        "    train_losses = []\n",
        "    val_accuracies = []\n",
        "\n",
        "    for epoch in range(epochs):\n",
        "        # Training\n",
        "        model.train()\n",
        "        epoch_loss = 0.0\n",
        "\n",
        "        for piano_rolls, features, labels in train_loader:\n",
        "            piano_rolls, features, labels = piano_rolls.to(device), features.to(device), labels.to(device)\n",
        "\n",
        "            optimizer.zero_grad()\n",
        "            outputs = model(piano_rolls, features)\n",
        "            loss = criterion(outputs, labels)\n",
        "            loss.backward()\n",
        "            optimizer.step()\n",
        "\n",
        "            epoch_loss += loss.item()\n",
        "\n",
        "        # Validation\n",
        "        model.eval()\n",
        "        correct = 0\n",
        "        total = 0\n",
        "\n",
        "        with torch.no_grad():\n",
        "            for piano_rolls, features, labels in val_loader:\n",
        "                piano_rolls, features, labels = piano_rolls.to(device), features.to(device), labels.to(device)\n",
        "                outputs = model(piano_rolls, features)\n",
        "                _, predicted = torch.max(outputs.data, 1)\n",
        "                total += labels.size(0)\n",
        "                correct += (predicted == labels).sum().item()\n",
        "\n",
        "        val_accuracy = 100 * correct / total\n",
        "        avg_loss = epoch_loss / len(train_loader)\n",
        "\n",
        "        train_losses.append(avg_loss)\n",
        "        val_accuracies.append(val_accuracy)\n",
        "\n",
        "        print(f'[CNN-MLP] Epoch [{epoch+1}/{epochs}], Loss: {avg_loss:.4f}, Val Acc: {val_accuracy:.2f}%')\n",
        "\n",
        "        scheduler.step()\n",
        "\n",
        "    return train_losses, val_accuracies\n",
        "\n",
        "print(\"CNN-MLP training function defined\")"
      ]
    },
    {
      "cell_type": "code",
      "execution_count": 9,
      "id": "5a67941e",
      "metadata": {
        "id": "5a67941e"
      },
      "outputs": [],
      "source": [
        "TARGET_COMPOSERS = ['Bach', 'Beethoven', 'Chopin', 'Mozart']"
      ]
    },
    {
      "cell_type": "code",
      "execution_count": 10,
      "id": "afc8bb3c",
      "metadata": {
        "colab": {
          "base_uri": "https://localhost:8080/"
        },
        "id": "afc8bb3c",
        "outputId": "f1bee820-526e-4248-91fa-6d28f9baf5c7"
      },
      "outputs": [
        {
          "name": "stdout",
          "output_type": "stream",
          "text": [
            "🎵 LOADING DATASET WITH NON-OVERLAPPING SEGMENTATION...\n",
            "Segment duration: 20.0s with NO OVERLAP\n",
            "Balance classes: True\n",
            "\n",
            "--- Processing Bach ---\n",
            "  Processed 10 files, created 192 segments...\n",
            "  Processed 20 files, created 331 segments...\n"
          ]
        },
        {
          "name": "stderr",
          "output_type": "stream",
          "text": [
            "/usr/local/lib/python3.11/dist-packages/pretty_midi/pretty_midi.py:100: RuntimeWarning: Tempo, Key or Time signature change events found on non-zero tracks.  This is not a valid type 0 or type 1 MIDI file.  Tempo, Key or Time Signature may be wrong.\n",
            "  warnings.warn(\n"
          ]
        },
        {
          "name": "stdout",
          "output_type": "stream",
          "text": [
            "  Processed 30 files, created 486 segments...\n",
            "  Processed 40 files, created 610 segments...\n",
            "  Processed 50 files, created 735 segments...\n",
            "  Processed 60 files, created 898 segments...\n",
            "  Processed 70 files, created 1110 segments...\n",
            "  Processed 80 files, created 1287 segments...\n",
            "  Processed 90 files, created 1522 segments...\n",
            "  Processed 100 files, created 1684 segments...\n",
            "  Processed 110 files, created 1891 segments...\n",
            "  Processed 120 files, created 2049 segments...\n",
            "  Processed 130 files, created 2270 segments...\n",
            "✅ Bach: 131 files → 2276 segments\n",
            "\n",
            "--- Processing Beethoven ---\n",
            "  Processed 10 files, created 268 segments...\n",
            "  Processed 20 files, created 444 segments...\n",
            "  Processed 30 files, created 584 segments...\n",
            "  Processed 40 files, created 757 segments...\n",
            "  Processed 50 files, created 887 segments...\n",
            "  Processed 60 files, created 1117 segments...\n",
            "  Processed 70 files, created 1304 segments...\n",
            "Error processing data/kaggle/midiclassics/Beethoven/Anhang 14-3.mid: Could not decode key with 3 flats and mode 255\n",
            "  Processed 80 files, created 1499 segments...\n",
            "  Processed 90 files, created 1670 segments...\n",
            "  Processed 100 files, created 1813 segments...\n",
            "  Processed 110 files, created 1935 segments...\n",
            "  Processed 120 files, created 2139 segments...\n",
            "  Processed 130 files, created 2248 segments...\n",
            "✅ Beethoven: 133 files → 2283 segments\n",
            "\n",
            "--- Processing Chopin ---\n",
            "  Processed 10 files, created 85 segments...\n",
            "  Processed 20 files, created 182 segments...\n",
            "  Processed 30 files, created 279 segments...\n",
            "  Processed 40 files, created 428 segments...\n",
            "  Processed 50 files, created 565 segments...\n",
            "  Processed 60 files, created 680 segments...\n",
            "  Processed 70 files, created 764 segments...\n",
            "  Processed 80 files, created 834 segments...\n",
            "  Processed 90 files, created 921 segments...\n",
            "  Processed 100 files, created 1005 segments...\n",
            "  Processed 110 files, created 1130 segments...\n",
            "  Processed 120 files, created 1260 segments...\n",
            "  Processed 130 files, created 1334 segments...\n",
            "✅ Chopin: 136 files → 1435 segments\n",
            "\n",
            "--- Processing Mozart ---\n",
            "  Processed 10 files, created 146 segments...\n",
            "  Processed 20 files, created 295 segments...\n",
            "  Processed 30 files, created 460 segments...\n",
            "  Processed 40 files, created 591 segments...\n",
            "  Processed 50 files, created 703 segments...\n",
            "  Processed 60 files, created 840 segments...\n",
            "  Processed 70 files, created 1004 segments...\n",
            "  Processed 80 files, created 1136 segments...\n",
            "  Processed 90 files, created 1238 segments...\n",
            "✅ Mozart: 90 files → 1238 segments\n",
            "\n",
            "⚖️ BALANCING CLASSES (SONG-AWARE, NO OVERLAP)...\n",
            "📊 Original segment distribution: {'Bach': 2276, 'Beethoven': 2283, 'Chopin': 1435, 'Mozart': 1238}\n",
            "🎯 Target segments per class: 2283\n",
            "  Bach: 2276 → 2283 (+7 from song duplication)\n",
            "  Beethoven: 2283 → 2283 (downsampled)\n",
            "  Chopin: 1435 → 2283 (+848 from song duplication)\n",
            "  Mozart: 1238 → 2283 (+1045 from song duplication)\n",
            "\n",
            "📊 FINAL BALANCED DATASET (NO OVERLAP):\n",
            "Total samples: 9132\n",
            "Data shape: (9132, 128, 2000)\n",
            "  Bach: 2283 samples\n",
            "  Beethoven: 2283 samples\n",
            "  Chopin: 2283 samples\n",
            "  Mozart: 2283 samples\n"
          ]
        }
      ],
      "source": [
        "data, labels, features, song_ids = load_segmented_dataset_no_overlap(paths[\"extract_path\"], TARGET_COMPOSERS)"
      ]
    },
    {
      "cell_type": "code",
      "execution_count": 11,
      "id": "5bc3c46b",
      "metadata": {
        "colab": {
          "base_uri": "https://localhost:8080/"
        },
        "id": "5bc3c46b",
        "outputId": "c356e7d1-dacd-424e-fbac-8f49e3cfc3f6"
      },
      "outputs": [
        {
          "data": {
            "text/plain": [
              "['data/kaggle/midiclassics/Bach/Bwv0916 Toccata.MID__0',\n",
              " 'data/kaggle/midiclassics/Bach/Bwv0916 Toccata.MID__1',\n",
              " 'data/kaggle/midiclassics/Bach/Bwv0916 Toccata.MID__2',\n",
              " 'data/kaggle/midiclassics/Bach/Bwv0916 Toccata.MID__3',\n",
              " 'data/kaggle/midiclassics/Bach/Bwv0916 Toccata.MID__4']"
            ]
          },
          "execution_count": 11,
          "metadata": {},
          "output_type": "execute_result"
        }
      ],
      "source": [
        "song_ids[0:5]"
      ]
    },
    {
      "cell_type": "code",
      "execution_count": 12,
      "id": "df36a080",
      "metadata": {
        "colab": {
          "base_uri": "https://localhost:8080/"
        },
        "id": "df36a080",
        "outputId": "b0dcef52-6a38-431f-8118-ce282d04e617"
      },
      "outputs": [
        {
          "name": "stdout",
          "output_type": "stream",
          "text": [
            "✅ Saved comprehensive_features to cache: local_cache/comprehensive_musical_features.pkl\n"
          ]
        }
      ],
      "source": [
        "comprehensive_features = load_comprehensive_features(data)"
      ]
    },
    {
      "cell_type": "code",
      "execution_count": 13,
      "id": "928b06ed",
      "metadata": {
        "colab": {
          "base_uri": "https://localhost:8080/"
        },
        "id": "928b06ed",
        "outputId": "2c9be577-c0b8-4d03-e6ee-555d5d5b1319"
      },
      "outputs": [
        {
          "data": {
            "text/plain": [
              "(4, 30)"
            ]
          },
          "execution_count": 13,
          "metadata": {},
          "output_type": "execute_result"
        }
      ],
      "source": [
        "num_classes = len(TARGET_COMPOSERS)\n",
        "num_features = len(comprehensive_features[0])\n",
        "\n",
        "num_classes, num_features"
      ]
    },
    {
      "cell_type": "code",
      "execution_count": 14,
      "id": "56a4b698",
      "metadata": {
        "id": "56a4b698"
      },
      "outputs": [],
      "source": [
        "model = MultimodalComposerClassifier(num_classes=num_classes, num_features=num_features).to(device)\n",
        "criterion = nn.CrossEntropyLoss()\n",
        "optimizer = optim.Adam(model.parameters(), lr=0.001, weight_decay=1e-4)\n",
        "scheduler = optim.lr_scheduler.StepLR(optimizer, step_size=10, gamma=0.7)"
      ]
    },
    {
      "cell_type": "code",
      "execution_count": 15,
      "id": "f781d4d9",
      "metadata": {
        "colab": {
          "base_uri": "https://localhost:8080/"
        },
        "id": "f781d4d9",
        "outputId": "b7d49615-7f3c-4f78-cfc1-08d3c064b114"
      },
      "outputs": [
        {
          "name": "stdout",
          "output_type": "stream",
          "text": [
            "📊 Feature Processing:\n",
            "• Feature names: ['avg_notes_per_time', 'note_density_variance', 'note_density_std', 'max_simultaneous_notes', 'onset_density']...\n",
            "• Features normalized: mean≈0, std≈1\n",
            "✅ Multimodal Dataset Created:\n",
            "• Piano rolls: torch.Size([7305, 128, 2000])\n",
            "• Features: torch.Size([7305, 30])\n",
            "• Labels: torch.Size([7305])\n",
            "• Total samples: 7305\n",
            "📊 Feature Processing:\n",
            "• Feature names: ['avg_notes_per_time', 'note_density_variance', 'note_density_std', 'max_simultaneous_notes', 'onset_density']...\n",
            "• Features normalized: mean≈0, std≈1\n",
            "✅ Multimodal Dataset Created:\n",
            "• Piano rolls: torch.Size([1827, 128, 2000])\n",
            "• Features: torch.Size([1827, 30])\n",
            "• Labels: torch.Size([1827])\n",
            "• Total samples: 1827\n",
            "📊 Songwise Data Loaders Created:\n",
            "• Training samples: 7305\n",
            "• Validation samples: 1827\n",
            "• Batch size: 32\n"
          ]
        }
      ],
      "source": [
        "train_loader, val_loader = create_songwise_data_loaders(\n",
        "    data,\n",
        "    labels,\n",
        "    comprehensive_features,\n",
        "    song_ids,\n",
        "    batch_size=32,\n",
        "    train_split=0.8,\n",
        "    dataset_class=MultimodalDataset\n",
        ")"
      ]
    },
    {
      "cell_type": "code",
      "execution_count": 16,
      "id": "41243e75",
      "metadata": {
        "colab": {
          "base_uri": "https://localhost:8080/"
        },
        "id": "41243e75",
        "outputId": "189711d7-0b89-45ea-ef86-864a0d2e162f"
      },
      "outputs": [
        {
          "name": "stdout",
          "output_type": "stream",
          "text": [
            "[CNN-MLP] Epoch [1/40], Loss: 1.0743, Val Acc: 65.79%\n",
            "[CNN-MLP] Epoch [2/40], Loss: 0.8239, Val Acc: 72.19%\n",
            "[CNN-MLP] Epoch [3/40], Loss: 0.7424, Val Acc: 74.82%\n",
            "[CNN-MLP] Epoch [4/40], Loss: 0.6899, Val Acc: 77.94%\n",
            "[CNN-MLP] Epoch [5/40], Loss: 0.6579, Val Acc: 78.98%\n",
            "[CNN-MLP] Epoch [6/40], Loss: 0.6186, Val Acc: 81.39%\n",
            "[CNN-MLP] Epoch [7/40], Loss: 0.5987, Val Acc: 82.87%\n",
            "[CNN-MLP] Epoch [8/40], Loss: 0.5794, Val Acc: 82.70%\n",
            "[CNN-MLP] Epoch [9/40], Loss: 0.5596, Val Acc: 83.31%\n",
            "[CNN-MLP] Epoch [10/40], Loss: 0.5407, Val Acc: 83.80%\n",
            "[CNN-MLP] Epoch [11/40], Loss: 0.5136, Val Acc: 84.78%\n",
            "[CNN-MLP] Epoch [12/40], Loss: 0.4955, Val Acc: 85.06%\n",
            "[CNN-MLP] Epoch [13/40], Loss: 0.4953, Val Acc: 85.11%\n",
            "[CNN-MLP] Epoch [14/40], Loss: 0.4785, Val Acc: 86.43%\n",
            "[CNN-MLP] Epoch [15/40], Loss: 0.4628, Val Acc: 87.19%\n",
            "[CNN-MLP] Epoch [16/40], Loss: 0.4463, Val Acc: 86.81%\n",
            "[CNN-MLP] Epoch [17/40], Loss: 0.4473, Val Acc: 86.86%\n",
            "[CNN-MLP] Epoch [18/40], Loss: 0.4354, Val Acc: 87.41%\n",
            "[CNN-MLP] Epoch [19/40], Loss: 0.4178, Val Acc: 87.30%\n",
            "[CNN-MLP] Epoch [20/40], Loss: 0.4064, Val Acc: 87.85%\n",
            "[CNN-MLP] Epoch [21/40], Loss: 0.3924, Val Acc: 88.51%\n",
            "[CNN-MLP] Epoch [22/40], Loss: 0.3897, Val Acc: 88.12%\n",
            "[CNN-MLP] Epoch [23/40], Loss: 0.3736, Val Acc: 88.12%\n",
            "[CNN-MLP] Epoch [24/40], Loss: 0.3697, Val Acc: 88.29%\n",
            "[CNN-MLP] Epoch [25/40], Loss: 0.3676, Val Acc: 88.40%\n",
            "[CNN-MLP] Epoch [26/40], Loss: 0.3722, Val Acc: 88.94%\n",
            "[CNN-MLP] Epoch [27/40], Loss: 0.3706, Val Acc: 89.44%\n",
            "[CNN-MLP] Epoch [28/40], Loss: 0.3599, Val Acc: 89.16%\n",
            "[CNN-MLP] Epoch [29/40], Loss: 0.3533, Val Acc: 89.71%\n",
            "[CNN-MLP] Epoch [30/40], Loss: 0.3583, Val Acc: 88.56%\n",
            "[CNN-MLP] Epoch [31/40], Loss: 0.3267, Val Acc: 90.04%\n",
            "[CNN-MLP] Epoch [32/40], Loss: 0.3260, Val Acc: 89.33%\n",
            "[CNN-MLP] Epoch [33/40], Loss: 0.3193, Val Acc: 89.76%\n",
            "[CNN-MLP] Epoch [34/40], Loss: 0.3305, Val Acc: 89.87%\n",
            "[CNN-MLP] Epoch [35/40], Loss: 0.3266, Val Acc: 89.33%\n",
            "[CNN-MLP] Epoch [36/40], Loss: 0.3191, Val Acc: 89.98%\n",
            "[CNN-MLP] Epoch [37/40], Loss: 0.3137, Val Acc: 90.37%\n",
            "[CNN-MLP] Epoch [38/40], Loss: 0.3116, Val Acc: 90.31%\n",
            "[CNN-MLP] Epoch [39/40], Loss: 0.3188, Val Acc: 90.59%\n",
            "[CNN-MLP] Epoch [40/40], Loss: 0.3153, Val Acc: 91.08%\n"
          ]
        }
      ],
      "source": [
        "EPOCHS = 40\n",
        "train_losses, val_accuracies = train_cnn_mlp_model(\n",
        "    model,\n",
        "    train_loader,\n",
        "    val_loader,\n",
        "    criterion,\n",
        "    optimizer,\n",
        "    scheduler,\n",
        "    epochs=EPOCHS,\n",
        "    device=device\n",
        ")"
      ]
    },
    {
      "cell_type": "code",
      "execution_count": 17,
      "id": "298bd472",
      "metadata": {
        "colab": {
          "base_uri": "https://localhost:8080/",
          "height": 1000
        },
        "id": "298bd472",
        "outputId": "b3f98edf-3eb7-45b2-f291-4488a942a2a3"
      },
      "outputs": [
        {
          "name": "stdout",
          "output_type": "stream",
          "text": [
            "🔍 EVALUATING MODEL...\n",
            "\n",
            "📊 CLASSIFICATION REPORT:\n",
            "============================================================\n",
            "              precision    recall  f1-score   support\n",
            "\n",
            "        Bach     0.9491    0.9147    0.9316       469\n",
            "   Beethoven     0.8684    0.8665    0.8675       457\n",
            "      Chopin     0.9342    0.9537    0.9439       432\n",
            "      Mozart     0.8933    0.9104    0.9018       469\n",
            "\n",
            "    accuracy                         0.9108      1827\n",
            "   macro avg     0.9113    0.9113    0.9112      1827\n",
            "weighted avg     0.9111    0.9108    0.9108      1827\n",
            "\n"
          ]
        },
        {
          "data": {
            "image/png": "[encoded data removed]",
            "text/plain": [
              "<Figure size 1000x800 with 2 Axes>"
            ]
          },
          "metadata": {},
          "output_type": "display_data"
        },
        {
          "name": "stdout",
          "output_type": "stream",
          "text": [
            "\n",
            "🎯 PER-CLASS ACCURACY:\n",
            "========================================\n",
            "Bach        : 0.9147 (91.47%)\n",
            "Beethoven   : 0.8665 (86.65%)\n",
            "Chopin      : 0.9537 (95.37%)\n",
            "Mozart      : 0.9104 (91.04%)\n",
            "\n",
            "🏆 OVERALL ACCURACY: 0.9108 (91.08%)\n",
            "\n",
            "❌ MOST CONFUSED PAIRS:\n",
            "========================================\n",
            "Mozart → Beethoven: 28 samples\n",
            "Beethoven → Mozart: 27 samples\n",
            "Beethoven → Chopin: 24 samples\n",
            "Bach → Mozart: 21 samples\n",
            "Bach → Beethoven: 17 samples\n"
          ]
        }
      ],
      "source": [
        "results = evaluate_model_comprehensive(model, val_loader, TARGET_COMPOSERS, device)"
      ]
    },
    {
      "cell_type": "code",
      "execution_count": null,
      "id": "f4QOVeg-pDBi",
      "metadata": {
        "colab": {
          "base_uri": "https://localhost:8080/"
        },
        "id": "f4QOVeg-pDBi",
        "outputId": "84422611-c125-467d-864d-081d9821224b"
      },
      "outputs": [
        {
          "name": "stdout",
          "output_type": "stream",
          "text": [
            "✅ Model saved to saved_models!\n"
          ]
        }
      ],
      "source": [
        "# Create the directory if it doesn't exist\n",
        "save_dir = '../saved_models'\n",
        "os.makedirs(save_dir, exist_ok=True)\n",
        "\n",
        "# Save the model\n",
        "torch.save(model.state_dict(), os.path.join(save_dir, 'cnn_mlp_composer_classifier.pth'))\n",
        "print(f\"Model saved to {save_dir}!\")"
      ]
    }
  ],
  "metadata": {
    "accelerator": "GPU",
    "colab": {
      "gpuType": "A100",
      "provenance": []
    },
    "kernelspec": {
      "display_name": "Python 3",
      "name": "python3"
    },
    "language_info": {
      "codemirror_mode": {
        "name": "ipython",
        "version": 3
      },
      "file_extension": ".py",
      "mimetype": "text/x-python",
      "name": "python",
      "nbconvert_exporter": "python",
      "pygments_lexer": "ipython3",
      "version": "3.12.3"
    }
  },
  "nbformat": 4,
  "nbformat_minor": 5
}
